{
 "cells": [
  {
   "cell_type": "markdown",
   "id": "e3e6f6a3",
   "metadata": {},
   "source": [
    "# Getting Started with Polars in Python\n",
    "\n",
    "\n",
    "_Data Umbrella Talk • 08 October 2024 • Kimberly Fessel, [Dr Kim Data](https://www.drkimdata.com)_"
   ]
  },
  {
   "cell_type": "markdown",
   "id": "a92be6f1",
   "metadata": {},
   "source": [
    "## Import Libraries"
   ]
  },
  {
   "cell_type": "code",
   "execution_count": 1,
   "id": "43484337",
   "metadata": {},
   "outputs": [],
   "source": [
    "import polars as pl"
   ]
  },
  {
   "cell_type": "markdown",
   "id": "c53372cf",
   "metadata": {},
   "source": [
    "## Creating and Reading Data"
   ]
  },
  {
   "cell_type": "markdown",
   "id": "ceee8a0e",
   "metadata": {},
   "source": [
    "### Create a DataFrame\n",
    "\n",
    "Polars core object is the **DataFrame**. \n",
    "\n",
    "You can easily create your own by passing a dictionary of column names with lists of values to the Polars `DataFrame()` function."
   ]
  },
  {
   "cell_type": "code",
   "execution_count": 2,
   "id": "7924a6dd",
   "metadata": {},
   "outputs": [],
   "source": [
    "df = pl.DataFrame(\n",
    "    {\n",
    "        'student': ['Angel', 'Brendan', 'Chelsea'],\n",
    "        'grade': [10, 11, 9],\n",
    "        'score': [93.5, 87.0, 79.5],\n",
    "        'subject': ['Math', 'Math', 'English'],\n",
    "    }\n",
    ")"
   ]
  },
  {
   "cell_type": "markdown",
   "id": "7698a46a",
   "metadata": {},
   "source": [
    "When you view the dataframe, you'll see the column names and data types. You will NOT see row index labels since Polars doesn't use them."
   ]
  },
  {
   "cell_type": "code",
   "execution_count": 4,
   "id": "a54141b4",
   "metadata": {},
   "outputs": [
    {
     "data": {
      "text/html": [
       "<div><style>\n",
       ".dataframe > thead > tr,\n",
       ".dataframe > tbody > tr {\n",
       "  text-align: right;\n",
       "  white-space: pre-wrap;\n",
       "}\n",
       "</style>\n",
       "<small>shape: (3, 4)</small><table border=\"1\" class=\"dataframe\"><thead><tr><th>student</th><th>grade</th><th>score</th><th>subject</th></tr><tr><td>str</td><td>i64</td><td>f64</td><td>str</td></tr></thead><tbody><tr><td>&quot;Angel&quot;</td><td>10</td><td>93.5</td><td>&quot;Math&quot;</td></tr><tr><td>&quot;Brendan&quot;</td><td>11</td><td>87.0</td><td>&quot;Math&quot;</td></tr><tr><td>&quot;Chelsea&quot;</td><td>9</td><td>79.5</td><td>&quot;English&quot;</td></tr></tbody></table></div>"
      ],
      "text/plain": [
       "shape: (3, 4)\n",
       "┌─────────┬───────┬───────┬─────────┐\n",
       "│ student ┆ grade ┆ score ┆ subject │\n",
       "│ ---     ┆ ---   ┆ ---   ┆ ---     │\n",
       "│ str     ┆ i64   ┆ f64   ┆ str     │\n",
       "╞═════════╪═══════╪═══════╪═════════╡\n",
       "│ Angel   ┆ 10    ┆ 93.5  ┆ Math    │\n",
       "│ Brendan ┆ 11    ┆ 87.0  ┆ Math    │\n",
       "│ Chelsea ┆ 9     ┆ 79.5  ┆ English │\n",
       "└─────────┴───────┴───────┴─────────┘"
      ]
     },
     "execution_count": 4,
     "metadata": {},
     "output_type": "execute_result"
    }
   ],
   "source": [
    "df"
   ]
  },
  {
   "cell_type": "markdown",
   "id": "3e597051",
   "metadata": {},
   "source": [
    "### Load a CSV\n",
    "\n",
    "You can also easily read data into Polars. The `read_csv()` function loads CSV data:\n",
    "- From your computer if you provide a file path, or\n",
    "- From the internet if you provide a URL."
   ]
  },
  {
   "cell_type": "code",
   "execution_count": 5,
   "id": "e3d49ab4",
   "metadata": {},
   "outputs": [],
   "source": [
    "cereal = pl.read_csv('https://raw.githubusercontent.com/kimfetti/Projects/master/Etc/cereal.csv')"
   ]
  },
  {
   "cell_type": "code",
   "execution_count": 6,
   "id": "e6698faf",
   "metadata": {},
   "outputs": [
    {
     "data": {
      "text/html": [
       "<div><style>\n",
       ".dataframe > thead > tr,\n",
       ".dataframe > tbody > tr {\n",
       "  text-align: right;\n",
       "  white-space: pre-wrap;\n",
       "}\n",
       "</style>\n",
       "<small>shape: (77, 16)</small><table border=\"1\" class=\"dataframe\"><thead><tr><th>name</th><th>mfr</th><th>type</th><th>calories</th><th>protein</th><th>fat</th><th>sodium</th><th>fiber</th><th>carbo</th><th>sugars</th><th>potass</th><th>vitamins</th><th>shelf</th><th>weight</th><th>cups</th><th>rating</th></tr><tr><td>str</td><td>str</td><td>str</td><td>i64</td><td>i64</td><td>i64</td><td>i64</td><td>f64</td><td>f64</td><td>i64</td><td>i64</td><td>i64</td><td>i64</td><td>f64</td><td>f64</td><td>f64</td></tr></thead><tbody><tr><td>&quot;100% Bran&quot;</td><td>&quot;N&quot;</td><td>&quot;C&quot;</td><td>70</td><td>4</td><td>1</td><td>130</td><td>10.0</td><td>5.0</td><td>6</td><td>280</td><td>25</td><td>3</td><td>1.0</td><td>0.33</td><td>68.402973</td></tr><tr><td>&quot;100% Natural Bran&quot;</td><td>&quot;Q&quot;</td><td>&quot;C&quot;</td><td>120</td><td>3</td><td>5</td><td>15</td><td>2.0</td><td>8.0</td><td>8</td><td>135</td><td>0</td><td>3</td><td>1.0</td><td>1.0</td><td>33.983679</td></tr><tr><td>&quot;All-Bran&quot;</td><td>&quot;K&quot;</td><td>&quot;C&quot;</td><td>70</td><td>4</td><td>1</td><td>260</td><td>9.0</td><td>7.0</td><td>5</td><td>320</td><td>25</td><td>3</td><td>1.0</td><td>0.33</td><td>59.425505</td></tr><tr><td>&quot;All-Bran with Extra Fiber&quot;</td><td>&quot;K&quot;</td><td>&quot;C&quot;</td><td>50</td><td>4</td><td>0</td><td>140</td><td>14.0</td><td>8.0</td><td>0</td><td>330</td><td>25</td><td>3</td><td>1.0</td><td>0.5</td><td>93.704912</td></tr><tr><td>&quot;Almond Delight&quot;</td><td>&quot;R&quot;</td><td>&quot;C&quot;</td><td>110</td><td>2</td><td>2</td><td>200</td><td>1.0</td><td>14.0</td><td>8</td><td>-1</td><td>25</td><td>3</td><td>1.0</td><td>0.75</td><td>34.384843</td></tr><tr><td>&hellip;</td><td>&hellip;</td><td>&hellip;</td><td>&hellip;</td><td>&hellip;</td><td>&hellip;</td><td>&hellip;</td><td>&hellip;</td><td>&hellip;</td><td>&hellip;</td><td>&hellip;</td><td>&hellip;</td><td>&hellip;</td><td>&hellip;</td><td>&hellip;</td><td>&hellip;</td></tr><tr><td>&quot;Triples&quot;</td><td>&quot;G&quot;</td><td>&quot;C&quot;</td><td>110</td><td>2</td><td>1</td><td>250</td><td>0.0</td><td>21.0</td><td>3</td><td>60</td><td>25</td><td>3</td><td>1.0</td><td>0.75</td><td>39.106174</td></tr><tr><td>&quot;Trix&quot;</td><td>&quot;G&quot;</td><td>&quot;C&quot;</td><td>110</td><td>1</td><td>1</td><td>140</td><td>0.0</td><td>13.0</td><td>12</td><td>25</td><td>25</td><td>2</td><td>1.0</td><td>1.0</td><td>27.753301</td></tr><tr><td>&quot;Wheat Chex&quot;</td><td>&quot;R&quot;</td><td>&quot;C&quot;</td><td>100</td><td>3</td><td>1</td><td>230</td><td>3.0</td><td>17.0</td><td>3</td><td>115</td><td>25</td><td>1</td><td>1.0</td><td>0.67</td><td>49.787445</td></tr><tr><td>&quot;Wheaties&quot;</td><td>&quot;G&quot;</td><td>&quot;C&quot;</td><td>100</td><td>3</td><td>1</td><td>200</td><td>3.0</td><td>17.0</td><td>3</td><td>110</td><td>25</td><td>1</td><td>1.0</td><td>1.0</td><td>51.592193</td></tr><tr><td>&quot;Wheaties Honey Gold&quot;</td><td>&quot;G&quot;</td><td>&quot;C&quot;</td><td>110</td><td>2</td><td>1</td><td>200</td><td>1.0</td><td>16.0</td><td>8</td><td>60</td><td>25</td><td>1</td><td>1.0</td><td>0.75</td><td>36.187559</td></tr></tbody></table></div>"
      ],
      "text/plain": [
       "shape: (77, 16)\n",
       "┌───────────────────────────┬─────┬──────┬──────────┬───┬───────┬────────┬──────┬───────────┐\n",
       "│ name                      ┆ mfr ┆ type ┆ calories ┆ … ┆ shelf ┆ weight ┆ cups ┆ rating    │\n",
       "│ ---                       ┆ --- ┆ ---  ┆ ---      ┆   ┆ ---   ┆ ---    ┆ ---  ┆ ---       │\n",
       "│ str                       ┆ str ┆ str  ┆ i64      ┆   ┆ i64   ┆ f64    ┆ f64  ┆ f64       │\n",
       "╞═══════════════════════════╪═════╪══════╪══════════╪═══╪═══════╪════════╪══════╪═══════════╡\n",
       "│ 100% Bran                 ┆ N   ┆ C    ┆ 70       ┆ … ┆ 3     ┆ 1.0    ┆ 0.33 ┆ 68.402973 │\n",
       "│ 100% Natural Bran         ┆ Q   ┆ C    ┆ 120      ┆ … ┆ 3     ┆ 1.0    ┆ 1.0  ┆ 33.983679 │\n",
       "│ All-Bran                  ┆ K   ┆ C    ┆ 70       ┆ … ┆ 3     ┆ 1.0    ┆ 0.33 ┆ 59.425505 │\n",
       "│ All-Bran with Extra Fiber ┆ K   ┆ C    ┆ 50       ┆ … ┆ 3     ┆ 1.0    ┆ 0.5  ┆ 93.704912 │\n",
       "│ Almond Delight            ┆ R   ┆ C    ┆ 110      ┆ … ┆ 3     ┆ 1.0    ┆ 0.75 ┆ 34.384843 │\n",
       "│ …                         ┆ …   ┆ …    ┆ …        ┆ … ┆ …     ┆ …      ┆ …    ┆ …         │\n",
       "│ Triples                   ┆ G   ┆ C    ┆ 110      ┆ … ┆ 3     ┆ 1.0    ┆ 0.75 ┆ 39.106174 │\n",
       "│ Trix                      ┆ G   ┆ C    ┆ 110      ┆ … ┆ 2     ┆ 1.0    ┆ 1.0  ┆ 27.753301 │\n",
       "│ Wheat Chex                ┆ R   ┆ C    ┆ 100      ┆ … ┆ 1     ┆ 1.0    ┆ 0.67 ┆ 49.787445 │\n",
       "│ Wheaties                  ┆ G   ┆ C    ┆ 100      ┆ … ┆ 1     ┆ 1.0    ┆ 1.0  ┆ 51.592193 │\n",
       "│ Wheaties Honey Gold       ┆ G   ┆ C    ┆ 110      ┆ … ┆ 1     ┆ 1.0    ┆ 0.75 ┆ 36.187559 │\n",
       "└───────────────────────────┴─────┴──────┴──────────┴───┴───────┴────────┴──────┴───────────┘"
      ]
     },
     "execution_count": 6,
     "metadata": {},
     "output_type": "execute_result"
    }
   ],
   "source": [
    "cereal"
   ]
  },
  {
   "cell_type": "markdown",
   "id": "80b814d1",
   "metadata": {
    "heading_collapsed": true
   },
   "source": [
    "## Selecting Data\n",
    "\n",
    "Many of the same functions and methods you may already know from pandas also work in Polars. For example,\n",
    "- `.head()` shows the first few rows of a dataframe\n",
    "- `.sample()` gives you a random sample of rows"
   ]
  },
  {
   "cell_type": "code",
   "execution_count": 7,
   "id": "41cf34a2",
   "metadata": {
    "hidden": true
   },
   "outputs": [
    {
     "data": {
      "text/html": [
       "<div><style>\n",
       ".dataframe > thead > tr,\n",
       ".dataframe > tbody > tr {\n",
       "  text-align: right;\n",
       "  white-space: pre-wrap;\n",
       "}\n",
       "</style>\n",
       "<small>shape: (5, 16)</small><table border=\"1\" class=\"dataframe\"><thead><tr><th>name</th><th>mfr</th><th>type</th><th>calories</th><th>protein</th><th>fat</th><th>sodium</th><th>fiber</th><th>carbo</th><th>sugars</th><th>potass</th><th>vitamins</th><th>shelf</th><th>weight</th><th>cups</th><th>rating</th></tr><tr><td>str</td><td>str</td><td>str</td><td>i64</td><td>i64</td><td>i64</td><td>i64</td><td>f64</td><td>f64</td><td>i64</td><td>i64</td><td>i64</td><td>i64</td><td>f64</td><td>f64</td><td>f64</td></tr></thead><tbody><tr><td>&quot;100% Bran&quot;</td><td>&quot;N&quot;</td><td>&quot;C&quot;</td><td>70</td><td>4</td><td>1</td><td>130</td><td>10.0</td><td>5.0</td><td>6</td><td>280</td><td>25</td><td>3</td><td>1.0</td><td>0.33</td><td>68.402973</td></tr><tr><td>&quot;100% Natural Bran&quot;</td><td>&quot;Q&quot;</td><td>&quot;C&quot;</td><td>120</td><td>3</td><td>5</td><td>15</td><td>2.0</td><td>8.0</td><td>8</td><td>135</td><td>0</td><td>3</td><td>1.0</td><td>1.0</td><td>33.983679</td></tr><tr><td>&quot;All-Bran&quot;</td><td>&quot;K&quot;</td><td>&quot;C&quot;</td><td>70</td><td>4</td><td>1</td><td>260</td><td>9.0</td><td>7.0</td><td>5</td><td>320</td><td>25</td><td>3</td><td>1.0</td><td>0.33</td><td>59.425505</td></tr><tr><td>&quot;All-Bran with Extra Fiber&quot;</td><td>&quot;K&quot;</td><td>&quot;C&quot;</td><td>50</td><td>4</td><td>0</td><td>140</td><td>14.0</td><td>8.0</td><td>0</td><td>330</td><td>25</td><td>3</td><td>1.0</td><td>0.5</td><td>93.704912</td></tr><tr><td>&quot;Almond Delight&quot;</td><td>&quot;R&quot;</td><td>&quot;C&quot;</td><td>110</td><td>2</td><td>2</td><td>200</td><td>1.0</td><td>14.0</td><td>8</td><td>-1</td><td>25</td><td>3</td><td>1.0</td><td>0.75</td><td>34.384843</td></tr></tbody></table></div>"
      ],
      "text/plain": [
       "shape: (5, 16)\n",
       "┌───────────────────────────┬─────┬──────┬──────────┬───┬───────┬────────┬──────┬───────────┐\n",
       "│ name                      ┆ mfr ┆ type ┆ calories ┆ … ┆ shelf ┆ weight ┆ cups ┆ rating    │\n",
       "│ ---                       ┆ --- ┆ ---  ┆ ---      ┆   ┆ ---   ┆ ---    ┆ ---  ┆ ---       │\n",
       "│ str                       ┆ str ┆ str  ┆ i64      ┆   ┆ i64   ┆ f64    ┆ f64  ┆ f64       │\n",
       "╞═══════════════════════════╪═════╪══════╪══════════╪═══╪═══════╪════════╪══════╪═══════════╡\n",
       "│ 100% Bran                 ┆ N   ┆ C    ┆ 70       ┆ … ┆ 3     ┆ 1.0    ┆ 0.33 ┆ 68.402973 │\n",
       "│ 100% Natural Bran         ┆ Q   ┆ C    ┆ 120      ┆ … ┆ 3     ┆ 1.0    ┆ 1.0  ┆ 33.983679 │\n",
       "│ All-Bran                  ┆ K   ┆ C    ┆ 70       ┆ … ┆ 3     ┆ 1.0    ┆ 0.33 ┆ 59.425505 │\n",
       "│ All-Bran with Extra Fiber ┆ K   ┆ C    ┆ 50       ┆ … ┆ 3     ┆ 1.0    ┆ 0.5  ┆ 93.704912 │\n",
       "│ Almond Delight            ┆ R   ┆ C    ┆ 110      ┆ … ┆ 3     ┆ 1.0    ┆ 0.75 ┆ 34.384843 │\n",
       "└───────────────────────────┴─────┴──────┴──────────┴───┴───────┴────────┴──────┴───────────┘"
      ]
     },
     "execution_count": 7,
     "metadata": {},
     "output_type": "execute_result"
    }
   ],
   "source": [
    "cereal.head()"
   ]
  },
  {
   "cell_type": "code",
   "execution_count": 8,
   "id": "67fd08ce",
   "metadata": {
    "hidden": true
   },
   "outputs": [
    {
     "data": {
      "text/html": [
       "<div><style>\n",
       ".dataframe > thead > tr,\n",
       ".dataframe > tbody > tr {\n",
       "  text-align: right;\n",
       "  white-space: pre-wrap;\n",
       "}\n",
       "</style>\n",
       "<small>shape: (10, 16)</small><table border=\"1\" class=\"dataframe\"><thead><tr><th>name</th><th>mfr</th><th>type</th><th>calories</th><th>protein</th><th>fat</th><th>sodium</th><th>fiber</th><th>carbo</th><th>sugars</th><th>potass</th><th>vitamins</th><th>shelf</th><th>weight</th><th>cups</th><th>rating</th></tr><tr><td>str</td><td>str</td><td>str</td><td>i64</td><td>i64</td><td>i64</td><td>i64</td><td>f64</td><td>f64</td><td>i64</td><td>i64</td><td>i64</td><td>i64</td><td>f64</td><td>f64</td><td>f64</td></tr></thead><tbody><tr><td>&quot;Basic 4&quot;</td><td>&quot;G&quot;</td><td>&quot;C&quot;</td><td>130</td><td>3</td><td>2</td><td>210</td><td>2.0</td><td>18.0</td><td>8</td><td>100</td><td>25</td><td>3</td><td>1.33</td><td>0.75</td><td>37.038562</td></tr><tr><td>&quot;Double Chex&quot;</td><td>&quot;R&quot;</td><td>&quot;C&quot;</td><td>100</td><td>2</td><td>0</td><td>190</td><td>1.0</td><td>18.0</td><td>5</td><td>80</td><td>25</td><td>3</td><td>1.0</td><td>0.75</td><td>44.330856</td></tr><tr><td>&quot;Almond Delight&quot;</td><td>&quot;R&quot;</td><td>&quot;C&quot;</td><td>110</td><td>2</td><td>2</td><td>200</td><td>1.0</td><td>14.0</td><td>8</td><td>-1</td><td>25</td><td>3</td><td>1.0</td><td>0.75</td><td>34.384843</td></tr><tr><td>&quot;All-Bran&quot;</td><td>&quot;K&quot;</td><td>&quot;C&quot;</td><td>70</td><td>4</td><td>1</td><td>260</td><td>9.0</td><td>7.0</td><td>5</td><td>320</td><td>25</td><td>3</td><td>1.0</td><td>0.33</td><td>59.425505</td></tr><tr><td>&quot;Frosted Flakes&quot;</td><td>&quot;K&quot;</td><td>&quot;C&quot;</td><td>110</td><td>1</td><td>0</td><td>200</td><td>1.0</td><td>14.0</td><td>11</td><td>25</td><td>25</td><td>1</td><td>1.0</td><td>0.75</td><td>31.435973</td></tr><tr><td>&quot;Puffed Rice&quot;</td><td>&quot;Q&quot;</td><td>&quot;C&quot;</td><td>50</td><td>1</td><td>0</td><td>0</td><td>0.0</td><td>13.0</td><td>0</td><td>15</td><td>0</td><td>3</td><td>0.5</td><td>1.0</td><td>60.756112</td></tr><tr><td>&quot;Post Nat. Raisin Bran&quot;</td><td>&quot;P&quot;</td><td>&quot;C&quot;</td><td>120</td><td>3</td><td>1</td><td>200</td><td>6.0</td><td>11.0</td><td>14</td><td>260</td><td>25</td><td>3</td><td>1.33</td><td>0.67</td><td>37.840594</td></tr><tr><td>&quot;Cinnamon Toast Crunch&quot;</td><td>&quot;G&quot;</td><td>&quot;C&quot;</td><td>120</td><td>1</td><td>3</td><td>210</td><td>0.0</td><td>13.0</td><td>9</td><td>45</td><td>25</td><td>2</td><td>1.0</td><td>0.75</td><td>19.823573</td></tr><tr><td>&quot;Wheaties&quot;</td><td>&quot;G&quot;</td><td>&quot;C&quot;</td><td>100</td><td>3</td><td>1</td><td>200</td><td>3.0</td><td>17.0</td><td>3</td><td>110</td><td>25</td><td>1</td><td>1.0</td><td>1.0</td><td>51.592193</td></tr><tr><td>&quot;Raisin Nut Bran&quot;</td><td>&quot;G&quot;</td><td>&quot;C&quot;</td><td>100</td><td>3</td><td>2</td><td>140</td><td>2.5</td><td>10.5</td><td>8</td><td>140</td><td>25</td><td>3</td><td>1.0</td><td>0.5</td><td>39.7034</td></tr></tbody></table></div>"
      ],
      "text/plain": [
       "shape: (10, 16)\n",
       "┌───────────────────────┬─────┬──────┬──────────┬───┬───────┬────────┬──────┬───────────┐\n",
       "│ name                  ┆ mfr ┆ type ┆ calories ┆ … ┆ shelf ┆ weight ┆ cups ┆ rating    │\n",
       "│ ---                   ┆ --- ┆ ---  ┆ ---      ┆   ┆ ---   ┆ ---    ┆ ---  ┆ ---       │\n",
       "│ str                   ┆ str ┆ str  ┆ i64      ┆   ┆ i64   ┆ f64    ┆ f64  ┆ f64       │\n",
       "╞═══════════════════════╪═════╪══════╪══════════╪═══╪═══════╪════════╪══════╪═══════════╡\n",
       "│ Basic 4               ┆ G   ┆ C    ┆ 130      ┆ … ┆ 3     ┆ 1.33   ┆ 0.75 ┆ 37.038562 │\n",
       "│ Double Chex           ┆ R   ┆ C    ┆ 100      ┆ … ┆ 3     ┆ 1.0    ┆ 0.75 ┆ 44.330856 │\n",
       "│ Almond Delight        ┆ R   ┆ C    ┆ 110      ┆ … ┆ 3     ┆ 1.0    ┆ 0.75 ┆ 34.384843 │\n",
       "│ All-Bran              ┆ K   ┆ C    ┆ 70       ┆ … ┆ 3     ┆ 1.0    ┆ 0.33 ┆ 59.425505 │\n",
       "│ Frosted Flakes        ┆ K   ┆ C    ┆ 110      ┆ … ┆ 1     ┆ 1.0    ┆ 0.75 ┆ 31.435973 │\n",
       "│ Puffed Rice           ┆ Q   ┆ C    ┆ 50       ┆ … ┆ 3     ┆ 0.5    ┆ 1.0  ┆ 60.756112 │\n",
       "│ Post Nat. Raisin Bran ┆ P   ┆ C    ┆ 120      ┆ … ┆ 3     ┆ 1.33   ┆ 0.67 ┆ 37.840594 │\n",
       "│ Cinnamon Toast Crunch ┆ G   ┆ C    ┆ 120      ┆ … ┆ 2     ┆ 1.0    ┆ 0.75 ┆ 19.823573 │\n",
       "│ Wheaties              ┆ G   ┆ C    ┆ 100      ┆ … ┆ 1     ┆ 1.0    ┆ 1.0  ┆ 51.592193 │\n",
       "│ Raisin Nut Bran       ┆ G   ┆ C    ┆ 100      ┆ … ┆ 3     ┆ 1.0    ┆ 0.5  ┆ 39.7034   │\n",
       "└───────────────────────┴─────┴──────┴──────────┴───┴───────┴────────┴──────┴───────────┘"
      ]
     },
     "execution_count": 8,
     "metadata": {},
     "output_type": "execute_result"
    }
   ],
   "source": [
    "cereal.sample(10, seed=44)"
   ]
  },
  {
   "cell_type": "markdown",
   "id": "ce26720a",
   "metadata": {
    "hidden": true
   },
   "source": [
    "Selecting a specific column with Polars, however, looks differently from pandas. Here, use the `.select()` method with the `col()` function."
   ]
  },
  {
   "cell_type": "code",
   "execution_count": 9,
   "id": "1b36e41c",
   "metadata": {
    "hidden": true
   },
   "outputs": [
    {
     "data": {
      "text/html": [
       "<div><style>\n",
       ".dataframe > thead > tr,\n",
       ".dataframe > tbody > tr {\n",
       "  text-align: right;\n",
       "  white-space: pre-wrap;\n",
       "}\n",
       "</style>\n",
       "<small>shape: (77, 1)</small><table border=\"1\" class=\"dataframe\"><thead><tr><th>fiber</th></tr><tr><td>f64</td></tr></thead><tbody><tr><td>10.0</td></tr><tr><td>2.0</td></tr><tr><td>9.0</td></tr><tr><td>14.0</td></tr><tr><td>1.0</td></tr><tr><td>&hellip;</td></tr><tr><td>0.0</td></tr><tr><td>0.0</td></tr><tr><td>3.0</td></tr><tr><td>3.0</td></tr><tr><td>1.0</td></tr></tbody></table></div>"
      ],
      "text/plain": [
       "shape: (77, 1)\n",
       "┌───────┐\n",
       "│ fiber │\n",
       "│ ---   │\n",
       "│ f64   │\n",
       "╞═══════╡\n",
       "│ 10.0  │\n",
       "│ 2.0   │\n",
       "│ 9.0   │\n",
       "│ 14.0  │\n",
       "│ 1.0   │\n",
       "│ …     │\n",
       "│ 0.0   │\n",
       "│ 0.0   │\n",
       "│ 3.0   │\n",
       "│ 3.0   │\n",
       "│ 1.0   │\n",
       "└───────┘"
      ]
     },
     "execution_count": 9,
     "metadata": {},
     "output_type": "execute_result"
    }
   ],
   "source": [
    "cereal.select(pl.col('fiber'))"
   ]
  },
  {
   "cell_type": "code",
   "execution_count": 10,
   "id": "89b74fb3",
   "metadata": {
    "hidden": true
   },
   "outputs": [
    {
     "data": {
      "text/html": [
       "<div><style>\n",
       ".dataframe > thead > tr,\n",
       ".dataframe > tbody > tr {\n",
       "  text-align: right;\n",
       "  white-space: pre-wrap;\n",
       "}\n",
       "</style>\n",
       "<small>shape: (77, 2)</small><table border=\"1\" class=\"dataframe\"><thead><tr><th>name</th><th>fiber</th></tr><tr><td>str</td><td>f64</td></tr></thead><tbody><tr><td>&quot;100% Bran&quot;</td><td>10.0</td></tr><tr><td>&quot;100% Natural Bran&quot;</td><td>2.0</td></tr><tr><td>&quot;All-Bran&quot;</td><td>9.0</td></tr><tr><td>&quot;All-Bran with Extra Fiber&quot;</td><td>14.0</td></tr><tr><td>&quot;Almond Delight&quot;</td><td>1.0</td></tr><tr><td>&hellip;</td><td>&hellip;</td></tr><tr><td>&quot;Triples&quot;</td><td>0.0</td></tr><tr><td>&quot;Trix&quot;</td><td>0.0</td></tr><tr><td>&quot;Wheat Chex&quot;</td><td>3.0</td></tr><tr><td>&quot;Wheaties&quot;</td><td>3.0</td></tr><tr><td>&quot;Wheaties Honey Gold&quot;</td><td>1.0</td></tr></tbody></table></div>"
      ],
      "text/plain": [
       "shape: (77, 2)\n",
       "┌───────────────────────────┬───────┐\n",
       "│ name                      ┆ fiber │\n",
       "│ ---                       ┆ ---   │\n",
       "│ str                       ┆ f64   │\n",
       "╞═══════════════════════════╪═══════╡\n",
       "│ 100% Bran                 ┆ 10.0  │\n",
       "│ 100% Natural Bran         ┆ 2.0   │\n",
       "│ All-Bran                  ┆ 9.0   │\n",
       "│ All-Bran with Extra Fiber ┆ 14.0  │\n",
       "│ Almond Delight            ┆ 1.0   │\n",
       "│ …                         ┆ …     │\n",
       "│ Triples                   ┆ 0.0   │\n",
       "│ Trix                      ┆ 0.0   │\n",
       "│ Wheat Chex                ┆ 3.0   │\n",
       "│ Wheaties                  ┆ 3.0   │\n",
       "│ Wheaties Honey Gold       ┆ 1.0   │\n",
       "└───────────────────────────┴───────┘"
      ]
     },
     "execution_count": 10,
     "metadata": {},
     "output_type": "execute_result"
    }
   ],
   "source": [
    "cereal.select(pl.col('name', 'fiber'))"
   ]
  },
  {
   "cell_type": "markdown",
   "id": "ece2b8d5",
   "metadata": {
    "heading_collapsed": true
   },
   "source": [
    "## Filtering Data\n",
    "\n",
    "Polars dataframes have a dedicated method for filtering; it's called `.filter()`. \n",
    "\n",
    "_HINT: Just remember to keep using `pl.col()` to reference the dataframe columns._"
   ]
  },
  {
   "cell_type": "code",
   "execution_count": 11,
   "id": "bbe59170",
   "metadata": {
    "hidden": true
   },
   "outputs": [
    {
     "data": {
      "text/html": [
       "<div><style>\n",
       ".dataframe > thead > tr,\n",
       ".dataframe > tbody > tr {\n",
       "  text-align: right;\n",
       "  white-space: pre-wrap;\n",
       "}\n",
       "</style>\n",
       "<small>shape: (5, 16)</small><table border=\"1\" class=\"dataframe\"><thead><tr><th>name</th><th>mfr</th><th>type</th><th>calories</th><th>protein</th><th>fat</th><th>sodium</th><th>fiber</th><th>carbo</th><th>sugars</th><th>potass</th><th>vitamins</th><th>shelf</th><th>weight</th><th>cups</th><th>rating</th></tr><tr><td>str</td><td>str</td><td>str</td><td>i64</td><td>i64</td><td>i64</td><td>i64</td><td>f64</td><td>f64</td><td>i64</td><td>i64</td><td>i64</td><td>i64</td><td>f64</td><td>f64</td><td>f64</td></tr></thead><tbody><tr><td>&quot;Almond Delight&quot;</td><td>&quot;R&quot;</td><td>&quot;C&quot;</td><td>110</td><td>2</td><td>2</td><td>200</td><td>1.0</td><td>14.0</td><td>8</td><td>-1</td><td>25</td><td>3</td><td>1.0</td><td>0.75</td><td>34.384843</td></tr><tr><td>&quot;Cocoa Puffs&quot;</td><td>&quot;G&quot;</td><td>&quot;C&quot;</td><td>110</td><td>1</td><td>1</td><td>180</td><td>0.0</td><td>12.0</td><td>13</td><td>55</td><td>25</td><td>2</td><td>1.0</td><td>1.0</td><td>22.736446</td></tr><tr><td>&quot;Apple Jacks&quot;</td><td>&quot;K&quot;</td><td>&quot;C&quot;</td><td>110</td><td>2</td><td>0</td><td>125</td><td>1.0</td><td>11.0</td><td>14</td><td>30</td><td>25</td><td>2</td><td>1.0</td><td>1.0</td><td>33.174094</td></tr><tr><td>&quot;Basic 4&quot;</td><td>&quot;G&quot;</td><td>&quot;C&quot;</td><td>130</td><td>3</td><td>2</td><td>210</td><td>2.0</td><td>18.0</td><td>8</td><td>100</td><td>25</td><td>3</td><td>1.33</td><td>0.75</td><td>37.038562</td></tr><tr><td>&quot;Honey-comb&quot;</td><td>&quot;P&quot;</td><td>&quot;C&quot;</td><td>110</td><td>1</td><td>0</td><td>180</td><td>0.0</td><td>14.0</td><td>11</td><td>35</td><td>25</td><td>1</td><td>1.0</td><td>1.33</td><td>28.742414</td></tr></tbody></table></div>"
      ],
      "text/plain": [
       "shape: (5, 16)\n",
       "┌────────────────┬─────┬──────┬──────────┬───┬───────┬────────┬──────┬───────────┐\n",
       "│ name           ┆ mfr ┆ type ┆ calories ┆ … ┆ shelf ┆ weight ┆ cups ┆ rating    │\n",
       "│ ---            ┆ --- ┆ ---  ┆ ---      ┆   ┆ ---   ┆ ---    ┆ ---  ┆ ---       │\n",
       "│ str            ┆ str ┆ str  ┆ i64      ┆   ┆ i64   ┆ f64    ┆ f64  ┆ f64       │\n",
       "╞════════════════╪═════╪══════╪══════════╪═══╪═══════╪════════╪══════╪═══════════╡\n",
       "│ Almond Delight ┆ R   ┆ C    ┆ 110      ┆ … ┆ 3     ┆ 1.0    ┆ 0.75 ┆ 34.384843 │\n",
       "│ Cocoa Puffs    ┆ G   ┆ C    ┆ 110      ┆ … ┆ 2     ┆ 1.0    ┆ 1.0  ┆ 22.736446 │\n",
       "│ Apple Jacks    ┆ K   ┆ C    ┆ 110      ┆ … ┆ 2     ┆ 1.0    ┆ 1.0  ┆ 33.174094 │\n",
       "│ Basic 4        ┆ G   ┆ C    ┆ 130      ┆ … ┆ 3     ┆ 1.33   ┆ 0.75 ┆ 37.038562 │\n",
       "│ Honey-comb     ┆ P   ┆ C    ┆ 110      ┆ … ┆ 1     ┆ 1.0    ┆ 1.33 ┆ 28.742414 │\n",
       "└────────────────┴─────┴──────┴──────────┴───┴───────┴────────┴──────┴───────────┘"
      ]
     },
     "execution_count": 11,
     "metadata": {},
     "output_type": "execute_result"
    }
   ],
   "source": [
    "cereal.sample(5, seed=23)"
   ]
  },
  {
   "cell_type": "code",
   "execution_count": 12,
   "id": "0ebc624e",
   "metadata": {
    "hidden": true
   },
   "outputs": [
    {
     "data": {
      "text/html": [
       "<div><style>\n",
       ".dataframe > thead > tr,\n",
       ".dataframe > tbody > tr {\n",
       "  text-align: right;\n",
       "  white-space: pre-wrap;\n",
       "}\n",
       "</style>\n",
       "<small>shape: (23, 16)</small><table border=\"1\" class=\"dataframe\"><thead><tr><th>name</th><th>mfr</th><th>type</th><th>calories</th><th>protein</th><th>fat</th><th>sodium</th><th>fiber</th><th>carbo</th><th>sugars</th><th>potass</th><th>vitamins</th><th>shelf</th><th>weight</th><th>cups</th><th>rating</th></tr><tr><td>str</td><td>str</td><td>str</td><td>i64</td><td>i64</td><td>i64</td><td>i64</td><td>f64</td><td>f64</td><td>i64</td><td>i64</td><td>i64</td><td>i64</td><td>f64</td><td>f64</td><td>f64</td></tr></thead><tbody><tr><td>&quot;All-Bran&quot;</td><td>&quot;K&quot;</td><td>&quot;C&quot;</td><td>70</td><td>4</td><td>1</td><td>260</td><td>9.0</td><td>7.0</td><td>5</td><td>320</td><td>25</td><td>3</td><td>1.0</td><td>0.33</td><td>59.425505</td></tr><tr><td>&quot;All-Bran with Extra Fiber&quot;</td><td>&quot;K&quot;</td><td>&quot;C&quot;</td><td>50</td><td>4</td><td>0</td><td>140</td><td>14.0</td><td>8.0</td><td>0</td><td>330</td><td>25</td><td>3</td><td>1.0</td><td>0.5</td><td>93.704912</td></tr><tr><td>&quot;Apple Jacks&quot;</td><td>&quot;K&quot;</td><td>&quot;C&quot;</td><td>110</td><td>2</td><td>0</td><td>125</td><td>1.0</td><td>11.0</td><td>14</td><td>30</td><td>25</td><td>2</td><td>1.0</td><td>1.0</td><td>33.174094</td></tr><tr><td>&quot;Corn Flakes&quot;</td><td>&quot;K&quot;</td><td>&quot;C&quot;</td><td>100</td><td>2</td><td>0</td><td>290</td><td>1.0</td><td>21.0</td><td>2</td><td>35</td><td>25</td><td>1</td><td>1.0</td><td>1.0</td><td>45.863324</td></tr><tr><td>&quot;Corn Pops&quot;</td><td>&quot;K&quot;</td><td>&quot;C&quot;</td><td>110</td><td>1</td><td>0</td><td>90</td><td>1.0</td><td>13.0</td><td>12</td><td>20</td><td>25</td><td>2</td><td>1.0</td><td>1.0</td><td>35.782791</td></tr><tr><td>&hellip;</td><td>&hellip;</td><td>&hellip;</td><td>&hellip;</td><td>&hellip;</td><td>&hellip;</td><td>&hellip;</td><td>&hellip;</td><td>&hellip;</td><td>&hellip;</td><td>&hellip;</td><td>&hellip;</td><td>&hellip;</td><td>&hellip;</td><td>&hellip;</td><td>&hellip;</td></tr><tr><td>&quot;Raisin Bran&quot;</td><td>&quot;K&quot;</td><td>&quot;C&quot;</td><td>120</td><td>3</td><td>1</td><td>210</td><td>5.0</td><td>14.0</td><td>12</td><td>240</td><td>25</td><td>2</td><td>1.33</td><td>0.75</td><td>39.259197</td></tr><tr><td>&quot;Raisin Squares&quot;</td><td>&quot;K&quot;</td><td>&quot;C&quot;</td><td>90</td><td>2</td><td>0</td><td>0</td><td>2.0</td><td>15.0</td><td>6</td><td>110</td><td>25</td><td>3</td><td>1.0</td><td>0.5</td><td>55.333142</td></tr><tr><td>&quot;Rice Krispies&quot;</td><td>&quot;K&quot;</td><td>&quot;C&quot;</td><td>110</td><td>2</td><td>0</td><td>290</td><td>0.0</td><td>22.0</td><td>3</td><td>35</td><td>25</td><td>1</td><td>1.0</td><td>1.0</td><td>40.560159</td></tr><tr><td>&quot;Smacks&quot;</td><td>&quot;K&quot;</td><td>&quot;C&quot;</td><td>110</td><td>2</td><td>1</td><td>70</td><td>1.0</td><td>9.0</td><td>15</td><td>40</td><td>25</td><td>2</td><td>1.0</td><td>0.75</td><td>31.230054</td></tr><tr><td>&quot;Special K&quot;</td><td>&quot;K&quot;</td><td>&quot;C&quot;</td><td>110</td><td>6</td><td>0</td><td>230</td><td>1.0</td><td>16.0</td><td>3</td><td>55</td><td>25</td><td>1</td><td>1.0</td><td>1.0</td><td>53.131324</td></tr></tbody></table></div>"
      ],
      "text/plain": [
       "shape: (23, 16)\n",
       "┌───────────────────────────┬─────┬──────┬──────────┬───┬───────┬────────┬──────┬───────────┐\n",
       "│ name                      ┆ mfr ┆ type ┆ calories ┆ … ┆ shelf ┆ weight ┆ cups ┆ rating    │\n",
       "│ ---                       ┆ --- ┆ ---  ┆ ---      ┆   ┆ ---   ┆ ---    ┆ ---  ┆ ---       │\n",
       "│ str                       ┆ str ┆ str  ┆ i64      ┆   ┆ i64   ┆ f64    ┆ f64  ┆ f64       │\n",
       "╞═══════════════════════════╪═════╪══════╪══════════╪═══╪═══════╪════════╪══════╪═══════════╡\n",
       "│ All-Bran                  ┆ K   ┆ C    ┆ 70       ┆ … ┆ 3     ┆ 1.0    ┆ 0.33 ┆ 59.425505 │\n",
       "│ All-Bran with Extra Fiber ┆ K   ┆ C    ┆ 50       ┆ … ┆ 3     ┆ 1.0    ┆ 0.5  ┆ 93.704912 │\n",
       "│ Apple Jacks               ┆ K   ┆ C    ┆ 110      ┆ … ┆ 2     ┆ 1.0    ┆ 1.0  ┆ 33.174094 │\n",
       "│ Corn Flakes               ┆ K   ┆ C    ┆ 100      ┆ … ┆ 1     ┆ 1.0    ┆ 1.0  ┆ 45.863324 │\n",
       "│ Corn Pops                 ┆ K   ┆ C    ┆ 110      ┆ … ┆ 2     ┆ 1.0    ┆ 1.0  ┆ 35.782791 │\n",
       "│ …                         ┆ …   ┆ …    ┆ …        ┆ … ┆ …     ┆ …      ┆ …    ┆ …         │\n",
       "│ Raisin Bran               ┆ K   ┆ C    ┆ 120      ┆ … ┆ 2     ┆ 1.33   ┆ 0.75 ┆ 39.259197 │\n",
       "│ Raisin Squares            ┆ K   ┆ C    ┆ 90       ┆ … ┆ 3     ┆ 1.0    ┆ 0.5  ┆ 55.333142 │\n",
       "│ Rice Krispies             ┆ K   ┆ C    ┆ 110      ┆ … ┆ 1     ┆ 1.0    ┆ 1.0  ┆ 40.560159 │\n",
       "│ Smacks                    ┆ K   ┆ C    ┆ 110      ┆ … ┆ 2     ┆ 1.0    ┆ 0.75 ┆ 31.230054 │\n",
       "│ Special K                 ┆ K   ┆ C    ┆ 110      ┆ … ┆ 1     ┆ 1.0    ┆ 1.0  ┆ 53.131324 │\n",
       "└───────────────────────────┴─────┴──────┴──────────┴───┴───────┴────────┴──────┴───────────┘"
      ]
     },
     "execution_count": 12,
     "metadata": {},
     "output_type": "execute_result"
    }
   ],
   "source": [
    "cereal.filter(pl.col('mfr') == 'K')"
   ]
  },
  {
   "cell_type": "markdown",
   "id": "e3008004",
   "metadata": {
    "hidden": true
   },
   "source": [
    "Like pandas, use `&` (and) to enforce conditions, or use `|` (or) to combine conditions where at least one must be true."
   ]
  },
  {
   "cell_type": "code",
   "execution_count": 13,
   "id": "1997cdeb",
   "metadata": {
    "hidden": true
   },
   "outputs": [
    {
     "data": {
      "text/html": [
       "<div><style>\n",
       ".dataframe > thead > tr,\n",
       ".dataframe > tbody > tr {\n",
       "  text-align: right;\n",
       "  white-space: pre-wrap;\n",
       "}\n",
       "</style>\n",
       "<small>shape: (8, 16)</small><table border=\"1\" class=\"dataframe\"><thead><tr><th>name</th><th>mfr</th><th>type</th><th>calories</th><th>protein</th><th>fat</th><th>sodium</th><th>fiber</th><th>carbo</th><th>sugars</th><th>potass</th><th>vitamins</th><th>shelf</th><th>weight</th><th>cups</th><th>rating</th></tr><tr><td>str</td><td>str</td><td>str</td><td>i64</td><td>i64</td><td>i64</td><td>i64</td><td>f64</td><td>f64</td><td>i64</td><td>i64</td><td>i64</td><td>i64</td><td>f64</td><td>f64</td><td>f64</td></tr></thead><tbody><tr><td>&quot;Apple Jacks&quot;</td><td>&quot;K&quot;</td><td>&quot;C&quot;</td><td>110</td><td>2</td><td>0</td><td>125</td><td>1.0</td><td>11.0</td><td>14</td><td>30</td><td>25</td><td>2</td><td>1.0</td><td>1.0</td><td>33.174094</td></tr><tr><td>&quot;Corn Pops&quot;</td><td>&quot;K&quot;</td><td>&quot;C&quot;</td><td>110</td><td>1</td><td>0</td><td>90</td><td>1.0</td><td>13.0</td><td>12</td><td>20</td><td>25</td><td>2</td><td>1.0</td><td>1.0</td><td>35.782791</td></tr><tr><td>&quot;Froot Loops&quot;</td><td>&quot;K&quot;</td><td>&quot;C&quot;</td><td>110</td><td>2</td><td>1</td><td>125</td><td>1.0</td><td>11.0</td><td>13</td><td>30</td><td>25</td><td>2</td><td>1.0</td><td>1.0</td><td>32.207582</td></tr><tr><td>&quot;Frosted Flakes&quot;</td><td>&quot;K&quot;</td><td>&quot;C&quot;</td><td>110</td><td>1</td><td>0</td><td>200</td><td>1.0</td><td>14.0</td><td>11</td><td>25</td><td>25</td><td>1</td><td>1.0</td><td>0.75</td><td>31.435973</td></tr><tr><td>&quot;Fruitful Bran&quot;</td><td>&quot;K&quot;</td><td>&quot;C&quot;</td><td>120</td><td>3</td><td>0</td><td>240</td><td>5.0</td><td>14.0</td><td>12</td><td>190</td><td>25</td><td>3</td><td>1.33</td><td>0.67</td><td>41.015492</td></tr><tr><td>&quot;Mueslix Crispy Blend&quot;</td><td>&quot;K&quot;</td><td>&quot;C&quot;</td><td>160</td><td>3</td><td>2</td><td>150</td><td>3.0</td><td>17.0</td><td>13</td><td>160</td><td>25</td><td>3</td><td>1.5</td><td>0.67</td><td>30.313351</td></tr><tr><td>&quot;Raisin Bran&quot;</td><td>&quot;K&quot;</td><td>&quot;C&quot;</td><td>120</td><td>3</td><td>1</td><td>210</td><td>5.0</td><td>14.0</td><td>12</td><td>240</td><td>25</td><td>2</td><td>1.33</td><td>0.75</td><td>39.259197</td></tr><tr><td>&quot;Smacks&quot;</td><td>&quot;K&quot;</td><td>&quot;C&quot;</td><td>110</td><td>2</td><td>1</td><td>70</td><td>1.0</td><td>9.0</td><td>15</td><td>40</td><td>25</td><td>2</td><td>1.0</td><td>0.75</td><td>31.230054</td></tr></tbody></table></div>"
      ],
      "text/plain": [
       "shape: (8, 16)\n",
       "┌──────────────────────┬─────┬──────┬──────────┬───┬───────┬────────┬──────┬───────────┐\n",
       "│ name                 ┆ mfr ┆ type ┆ calories ┆ … ┆ shelf ┆ weight ┆ cups ┆ rating    │\n",
       "│ ---                  ┆ --- ┆ ---  ┆ ---      ┆   ┆ ---   ┆ ---    ┆ ---  ┆ ---       │\n",
       "│ str                  ┆ str ┆ str  ┆ i64      ┆   ┆ i64   ┆ f64    ┆ f64  ┆ f64       │\n",
       "╞══════════════════════╪═════╪══════╪══════════╪═══╪═══════╪════════╪══════╪═══════════╡\n",
       "│ Apple Jacks          ┆ K   ┆ C    ┆ 110      ┆ … ┆ 2     ┆ 1.0    ┆ 1.0  ┆ 33.174094 │\n",
       "│ Corn Pops            ┆ K   ┆ C    ┆ 110      ┆ … ┆ 2     ┆ 1.0    ┆ 1.0  ┆ 35.782791 │\n",
       "│ Froot Loops          ┆ K   ┆ C    ┆ 110      ┆ … ┆ 2     ┆ 1.0    ┆ 1.0  ┆ 32.207582 │\n",
       "│ Frosted Flakes       ┆ K   ┆ C    ┆ 110      ┆ … ┆ 1     ┆ 1.0    ┆ 0.75 ┆ 31.435973 │\n",
       "│ Fruitful Bran        ┆ K   ┆ C    ┆ 120      ┆ … ┆ 3     ┆ 1.33   ┆ 0.67 ┆ 41.015492 │\n",
       "│ Mueslix Crispy Blend ┆ K   ┆ C    ┆ 160      ┆ … ┆ 3     ┆ 1.5    ┆ 0.67 ┆ 30.313351 │\n",
       "│ Raisin Bran          ┆ K   ┆ C    ┆ 120      ┆ … ┆ 2     ┆ 1.33   ┆ 0.75 ┆ 39.259197 │\n",
       "│ Smacks               ┆ K   ┆ C    ┆ 110      ┆ … ┆ 2     ┆ 1.0    ┆ 0.75 ┆ 31.230054 │\n",
       "└──────────────────────┴─────┴──────┴──────────┴───┴───────┴────────┴──────┴───────────┘"
      ]
     },
     "execution_count": 13,
     "metadata": {},
     "output_type": "execute_result"
    }
   ],
   "source": [
    "cereal.filter((pl.col('mfr') == 'K') & (pl.col('sugars') >= 10))"
   ]
  },
  {
   "cell_type": "markdown",
   "id": "28b0af04",
   "metadata": {},
   "source": [
    "## Adding Columns\n",
    "\n",
    "The `.with_columns()` method allows you to add one or more columns to your dataframes."
   ]
  },
  {
   "cell_type": "code",
   "execution_count": 14,
   "id": "1854d0fb",
   "metadata": {},
   "outputs": [
    {
     "data": {
      "text/html": [
       "<div><style>\n",
       ".dataframe > thead > tr,\n",
       ".dataframe > tbody > tr {\n",
       "  text-align: right;\n",
       "  white-space: pre-wrap;\n",
       "}\n",
       "</style>\n",
       "<small>shape: (5, 16)</small><table border=\"1\" class=\"dataframe\"><thead><tr><th>name</th><th>mfr</th><th>type</th><th>calories</th><th>protein</th><th>fat</th><th>sodium</th><th>fiber</th><th>carbo</th><th>sugars</th><th>potass</th><th>vitamins</th><th>shelf</th><th>weight</th><th>cups</th><th>rating</th></tr><tr><td>str</td><td>str</td><td>str</td><td>i64</td><td>i64</td><td>i64</td><td>i64</td><td>f64</td><td>f64</td><td>i64</td><td>i64</td><td>i64</td><td>i64</td><td>f64</td><td>f64</td><td>f64</td></tr></thead><tbody><tr><td>&quot;Triples&quot;</td><td>&quot;G&quot;</td><td>&quot;C&quot;</td><td>110</td><td>2</td><td>1</td><td>250</td><td>0.0</td><td>21.0</td><td>3</td><td>60</td><td>25</td><td>3</td><td>1.0</td><td>0.75</td><td>39.106174</td></tr><tr><td>&quot;Trix&quot;</td><td>&quot;G&quot;</td><td>&quot;C&quot;</td><td>110</td><td>1</td><td>1</td><td>140</td><td>0.0</td><td>13.0</td><td>12</td><td>25</td><td>25</td><td>2</td><td>1.0</td><td>1.0</td><td>27.753301</td></tr><tr><td>&quot;Wheat Chex&quot;</td><td>&quot;R&quot;</td><td>&quot;C&quot;</td><td>100</td><td>3</td><td>1</td><td>230</td><td>3.0</td><td>17.0</td><td>3</td><td>115</td><td>25</td><td>1</td><td>1.0</td><td>0.67</td><td>49.787445</td></tr><tr><td>&quot;Wheaties&quot;</td><td>&quot;G&quot;</td><td>&quot;C&quot;</td><td>100</td><td>3</td><td>1</td><td>200</td><td>3.0</td><td>17.0</td><td>3</td><td>110</td><td>25</td><td>1</td><td>1.0</td><td>1.0</td><td>51.592193</td></tr><tr><td>&quot;Wheaties Honey Gold&quot;</td><td>&quot;G&quot;</td><td>&quot;C&quot;</td><td>110</td><td>2</td><td>1</td><td>200</td><td>1.0</td><td>16.0</td><td>8</td><td>60</td><td>25</td><td>1</td><td>1.0</td><td>0.75</td><td>36.187559</td></tr></tbody></table></div>"
      ],
      "text/plain": [
       "shape: (5, 16)\n",
       "┌─────────────────────┬─────┬──────┬──────────┬───┬───────┬────────┬──────┬───────────┐\n",
       "│ name                ┆ mfr ┆ type ┆ calories ┆ … ┆ shelf ┆ weight ┆ cups ┆ rating    │\n",
       "│ ---                 ┆ --- ┆ ---  ┆ ---      ┆   ┆ ---   ┆ ---    ┆ ---  ┆ ---       │\n",
       "│ str                 ┆ str ┆ str  ┆ i64      ┆   ┆ i64   ┆ f64    ┆ f64  ┆ f64       │\n",
       "╞═════════════════════╪═════╪══════╪══════════╪═══╪═══════╪════════╪══════╪═══════════╡\n",
       "│ Triples             ┆ G   ┆ C    ┆ 110      ┆ … ┆ 3     ┆ 1.0    ┆ 0.75 ┆ 39.106174 │\n",
       "│ Trix                ┆ G   ┆ C    ┆ 110      ┆ … ┆ 2     ┆ 1.0    ┆ 1.0  ┆ 27.753301 │\n",
       "│ Wheat Chex          ┆ R   ┆ C    ┆ 100      ┆ … ┆ 1     ┆ 1.0    ┆ 0.67 ┆ 49.787445 │\n",
       "│ Wheaties            ┆ G   ┆ C    ┆ 100      ┆ … ┆ 1     ┆ 1.0    ┆ 1.0  ┆ 51.592193 │\n",
       "│ Wheaties Honey Gold ┆ G   ┆ C    ┆ 110      ┆ … ┆ 1     ┆ 1.0    ┆ 0.75 ┆ 36.187559 │\n",
       "└─────────────────────┴─────┴──────┴──────────┴───┴───────┴────────┴──────┴───────────┘"
      ]
     },
     "execution_count": 14,
     "metadata": {},
     "output_type": "execute_result"
    }
   ],
   "source": [
    "cereal.tail()"
   ]
  },
  {
   "cell_type": "code",
   "execution_count": 15,
   "id": "f90347f6",
   "metadata": {},
   "outputs": [
    {
     "data": {
      "text/html": [
       "<div><style>\n",
       ".dataframe > thead > tr,\n",
       ".dataframe > tbody > tr {\n",
       "  text-align: right;\n",
       "  white-space: pre-wrap;\n",
       "}\n",
       "</style>\n",
       "<small>shape: (77, 16)</small><table border=\"1\" class=\"dataframe\"><thead><tr><th>name</th><th>mfr</th><th>type</th><th>calories</th><th>protein</th><th>fat</th><th>sodium</th><th>fiber</th><th>carbo</th><th>sugars</th><th>potass</th><th>vitamins</th><th>shelf</th><th>weight</th><th>cups</th><th>rating</th></tr><tr><td>str</td><td>str</td><td>str</td><td>f64</td><td>i64</td><td>i64</td><td>i64</td><td>f64</td><td>f64</td><td>i64</td><td>i64</td><td>i64</td><td>i64</td><td>f64</td><td>f64</td><td>f64</td></tr></thead><tbody><tr><td>&quot;100% Bran&quot;</td><td>&quot;N&quot;</td><td>&quot;C&quot;</td><td>212.121212</td><td>4</td><td>1</td><td>130</td><td>10.0</td><td>5.0</td><td>6</td><td>280</td><td>25</td><td>3</td><td>1.0</td><td>0.33</td><td>68.402973</td></tr><tr><td>&quot;100% Natural Bran&quot;</td><td>&quot;Q&quot;</td><td>&quot;C&quot;</td><td>120.0</td><td>3</td><td>5</td><td>15</td><td>2.0</td><td>8.0</td><td>8</td><td>135</td><td>0</td><td>3</td><td>1.0</td><td>1.0</td><td>33.983679</td></tr><tr><td>&quot;All-Bran&quot;</td><td>&quot;K&quot;</td><td>&quot;C&quot;</td><td>212.121212</td><td>4</td><td>1</td><td>260</td><td>9.0</td><td>7.0</td><td>5</td><td>320</td><td>25</td><td>3</td><td>1.0</td><td>0.33</td><td>59.425505</td></tr><tr><td>&quot;All-Bran with Extra Fiber&quot;</td><td>&quot;K&quot;</td><td>&quot;C&quot;</td><td>100.0</td><td>4</td><td>0</td><td>140</td><td>14.0</td><td>8.0</td><td>0</td><td>330</td><td>25</td><td>3</td><td>1.0</td><td>0.5</td><td>93.704912</td></tr><tr><td>&quot;Almond Delight&quot;</td><td>&quot;R&quot;</td><td>&quot;C&quot;</td><td>146.666667</td><td>2</td><td>2</td><td>200</td><td>1.0</td><td>14.0</td><td>8</td><td>-1</td><td>25</td><td>3</td><td>1.0</td><td>0.75</td><td>34.384843</td></tr><tr><td>&hellip;</td><td>&hellip;</td><td>&hellip;</td><td>&hellip;</td><td>&hellip;</td><td>&hellip;</td><td>&hellip;</td><td>&hellip;</td><td>&hellip;</td><td>&hellip;</td><td>&hellip;</td><td>&hellip;</td><td>&hellip;</td><td>&hellip;</td><td>&hellip;</td><td>&hellip;</td></tr><tr><td>&quot;Triples&quot;</td><td>&quot;G&quot;</td><td>&quot;C&quot;</td><td>146.666667</td><td>2</td><td>1</td><td>250</td><td>0.0</td><td>21.0</td><td>3</td><td>60</td><td>25</td><td>3</td><td>1.0</td><td>0.75</td><td>39.106174</td></tr><tr><td>&quot;Trix&quot;</td><td>&quot;G&quot;</td><td>&quot;C&quot;</td><td>110.0</td><td>1</td><td>1</td><td>140</td><td>0.0</td><td>13.0</td><td>12</td><td>25</td><td>25</td><td>2</td><td>1.0</td><td>1.0</td><td>27.753301</td></tr><tr><td>&quot;Wheat Chex&quot;</td><td>&quot;R&quot;</td><td>&quot;C&quot;</td><td>149.253731</td><td>3</td><td>1</td><td>230</td><td>3.0</td><td>17.0</td><td>3</td><td>115</td><td>25</td><td>1</td><td>1.0</td><td>0.67</td><td>49.787445</td></tr><tr><td>&quot;Wheaties&quot;</td><td>&quot;G&quot;</td><td>&quot;C&quot;</td><td>100.0</td><td>3</td><td>1</td><td>200</td><td>3.0</td><td>17.0</td><td>3</td><td>110</td><td>25</td><td>1</td><td>1.0</td><td>1.0</td><td>51.592193</td></tr><tr><td>&quot;Wheaties Honey Gold&quot;</td><td>&quot;G&quot;</td><td>&quot;C&quot;</td><td>146.666667</td><td>2</td><td>1</td><td>200</td><td>1.0</td><td>16.0</td><td>8</td><td>60</td><td>25</td><td>1</td><td>1.0</td><td>0.75</td><td>36.187559</td></tr></tbody></table></div>"
      ],
      "text/plain": [
       "shape: (77, 16)\n",
       "┌───────────────────────────┬─────┬──────┬────────────┬───┬───────┬────────┬──────┬───────────┐\n",
       "│ name                      ┆ mfr ┆ type ┆ calories   ┆ … ┆ shelf ┆ weight ┆ cups ┆ rating    │\n",
       "│ ---                       ┆ --- ┆ ---  ┆ ---        ┆   ┆ ---   ┆ ---    ┆ ---  ┆ ---       │\n",
       "│ str                       ┆ str ┆ str  ┆ f64        ┆   ┆ i64   ┆ f64    ┆ f64  ┆ f64       │\n",
       "╞═══════════════════════════╪═════╪══════╪════════════╪═══╪═══════╪════════╪══════╪═══════════╡\n",
       "│ 100% Bran                 ┆ N   ┆ C    ┆ 212.121212 ┆ … ┆ 3     ┆ 1.0    ┆ 0.33 ┆ 68.402973 │\n",
       "│ 100% Natural Bran         ┆ Q   ┆ C    ┆ 120.0      ┆ … ┆ 3     ┆ 1.0    ┆ 1.0  ┆ 33.983679 │\n",
       "│ All-Bran                  ┆ K   ┆ C    ┆ 212.121212 ┆ … ┆ 3     ┆ 1.0    ┆ 0.33 ┆ 59.425505 │\n",
       "│ All-Bran with Extra Fiber ┆ K   ┆ C    ┆ 100.0      ┆ … ┆ 3     ┆ 1.0    ┆ 0.5  ┆ 93.704912 │\n",
       "│ Almond Delight            ┆ R   ┆ C    ┆ 146.666667 ┆ … ┆ 3     ┆ 1.0    ┆ 0.75 ┆ 34.384843 │\n",
       "│ …                         ┆ …   ┆ …    ┆ …          ┆ … ┆ …     ┆ …      ┆ …    ┆ …         │\n",
       "│ Triples                   ┆ G   ┆ C    ┆ 146.666667 ┆ … ┆ 3     ┆ 1.0    ┆ 0.75 ┆ 39.106174 │\n",
       "│ Trix                      ┆ G   ┆ C    ┆ 110.0      ┆ … ┆ 2     ┆ 1.0    ┆ 1.0  ┆ 27.753301 │\n",
       "│ Wheat Chex                ┆ R   ┆ C    ┆ 149.253731 ┆ … ┆ 1     ┆ 1.0    ┆ 0.67 ┆ 49.787445 │\n",
       "│ Wheaties                  ┆ G   ┆ C    ┆ 100.0      ┆ … ┆ 1     ┆ 1.0    ┆ 1.0  ┆ 51.592193 │\n",
       "│ Wheaties Honey Gold       ┆ G   ┆ C    ┆ 146.666667 ┆ … ┆ 1     ┆ 1.0    ┆ 0.75 ┆ 36.187559 │\n",
       "└───────────────────────────┴─────┴──────┴────────────┴───┴───────┴────────┴──────┴───────────┘"
      ]
     },
     "execution_count": 15,
     "metadata": {},
     "output_type": "execute_result"
    }
   ],
   "source": [
    "cereal.with_columns( (pl.col('calories')/pl.col('cups')) )"
   ]
  },
  {
   "cell_type": "markdown",
   "id": "da3d570f",
   "metadata": {},
   "source": [
    "**Don't forget to alias the columns you create!** If you don't provide an alias, Polars will overwrite one of the existing columns in your dataframe."
   ]
  },
  {
   "cell_type": "code",
   "execution_count": 16,
   "id": "5570f687",
   "metadata": {},
   "outputs": [
    {
     "data": {
      "text/html": [
       "<div><style>\n",
       ".dataframe > thead > tr,\n",
       ".dataframe > tbody > tr {\n",
       "  text-align: right;\n",
       "  white-space: pre-wrap;\n",
       "}\n",
       "</style>\n",
       "<small>shape: (77, 17)</small><table border=\"1\" class=\"dataframe\"><thead><tr><th>name</th><th>mfr</th><th>type</th><th>calories</th><th>protein</th><th>fat</th><th>sodium</th><th>fiber</th><th>carbo</th><th>sugars</th><th>potass</th><th>vitamins</th><th>shelf</th><th>weight</th><th>cups</th><th>rating</th><th>cal_per_cup</th></tr><tr><td>str</td><td>str</td><td>str</td><td>i64</td><td>i64</td><td>i64</td><td>i64</td><td>f64</td><td>f64</td><td>i64</td><td>i64</td><td>i64</td><td>i64</td><td>f64</td><td>f64</td><td>f64</td><td>f64</td></tr></thead><tbody><tr><td>&quot;100% Bran&quot;</td><td>&quot;N&quot;</td><td>&quot;C&quot;</td><td>70</td><td>4</td><td>1</td><td>130</td><td>10.0</td><td>5.0</td><td>6</td><td>280</td><td>25</td><td>3</td><td>1.0</td><td>0.33</td><td>68.402973</td><td>212.121212</td></tr><tr><td>&quot;100% Natural Bran&quot;</td><td>&quot;Q&quot;</td><td>&quot;C&quot;</td><td>120</td><td>3</td><td>5</td><td>15</td><td>2.0</td><td>8.0</td><td>8</td><td>135</td><td>0</td><td>3</td><td>1.0</td><td>1.0</td><td>33.983679</td><td>120.0</td></tr><tr><td>&quot;All-Bran&quot;</td><td>&quot;K&quot;</td><td>&quot;C&quot;</td><td>70</td><td>4</td><td>1</td><td>260</td><td>9.0</td><td>7.0</td><td>5</td><td>320</td><td>25</td><td>3</td><td>1.0</td><td>0.33</td><td>59.425505</td><td>212.121212</td></tr><tr><td>&quot;All-Bran with Extra Fiber&quot;</td><td>&quot;K&quot;</td><td>&quot;C&quot;</td><td>50</td><td>4</td><td>0</td><td>140</td><td>14.0</td><td>8.0</td><td>0</td><td>330</td><td>25</td><td>3</td><td>1.0</td><td>0.5</td><td>93.704912</td><td>100.0</td></tr><tr><td>&quot;Almond Delight&quot;</td><td>&quot;R&quot;</td><td>&quot;C&quot;</td><td>110</td><td>2</td><td>2</td><td>200</td><td>1.0</td><td>14.0</td><td>8</td><td>-1</td><td>25</td><td>3</td><td>1.0</td><td>0.75</td><td>34.384843</td><td>146.666667</td></tr><tr><td>&hellip;</td><td>&hellip;</td><td>&hellip;</td><td>&hellip;</td><td>&hellip;</td><td>&hellip;</td><td>&hellip;</td><td>&hellip;</td><td>&hellip;</td><td>&hellip;</td><td>&hellip;</td><td>&hellip;</td><td>&hellip;</td><td>&hellip;</td><td>&hellip;</td><td>&hellip;</td><td>&hellip;</td></tr><tr><td>&quot;Triples&quot;</td><td>&quot;G&quot;</td><td>&quot;C&quot;</td><td>110</td><td>2</td><td>1</td><td>250</td><td>0.0</td><td>21.0</td><td>3</td><td>60</td><td>25</td><td>3</td><td>1.0</td><td>0.75</td><td>39.106174</td><td>146.666667</td></tr><tr><td>&quot;Trix&quot;</td><td>&quot;G&quot;</td><td>&quot;C&quot;</td><td>110</td><td>1</td><td>1</td><td>140</td><td>0.0</td><td>13.0</td><td>12</td><td>25</td><td>25</td><td>2</td><td>1.0</td><td>1.0</td><td>27.753301</td><td>110.0</td></tr><tr><td>&quot;Wheat Chex&quot;</td><td>&quot;R&quot;</td><td>&quot;C&quot;</td><td>100</td><td>3</td><td>1</td><td>230</td><td>3.0</td><td>17.0</td><td>3</td><td>115</td><td>25</td><td>1</td><td>1.0</td><td>0.67</td><td>49.787445</td><td>149.253731</td></tr><tr><td>&quot;Wheaties&quot;</td><td>&quot;G&quot;</td><td>&quot;C&quot;</td><td>100</td><td>3</td><td>1</td><td>200</td><td>3.0</td><td>17.0</td><td>3</td><td>110</td><td>25</td><td>1</td><td>1.0</td><td>1.0</td><td>51.592193</td><td>100.0</td></tr><tr><td>&quot;Wheaties Honey Gold&quot;</td><td>&quot;G&quot;</td><td>&quot;C&quot;</td><td>110</td><td>2</td><td>1</td><td>200</td><td>1.0</td><td>16.0</td><td>8</td><td>60</td><td>25</td><td>1</td><td>1.0</td><td>0.75</td><td>36.187559</td><td>146.666667</td></tr></tbody></table></div>"
      ],
      "text/plain": [
       "shape: (77, 17)\n",
       "┌───────────────────────────┬─────┬──────┬──────────┬───┬────────┬──────┬───────────┬─────────────┐\n",
       "│ name                      ┆ mfr ┆ type ┆ calories ┆ … ┆ weight ┆ cups ┆ rating    ┆ cal_per_cup │\n",
       "│ ---                       ┆ --- ┆ ---  ┆ ---      ┆   ┆ ---    ┆ ---  ┆ ---       ┆ ---         │\n",
       "│ str                       ┆ str ┆ str  ┆ i64      ┆   ┆ f64    ┆ f64  ┆ f64       ┆ f64         │\n",
       "╞═══════════════════════════╪═════╪══════╪══════════╪═══╪════════╪══════╪═══════════╪═════════════╡\n",
       "│ 100% Bran                 ┆ N   ┆ C    ┆ 70       ┆ … ┆ 1.0    ┆ 0.33 ┆ 68.402973 ┆ 212.121212  │\n",
       "│ 100% Natural Bran         ┆ Q   ┆ C    ┆ 120      ┆ … ┆ 1.0    ┆ 1.0  ┆ 33.983679 ┆ 120.0       │\n",
       "│ All-Bran                  ┆ K   ┆ C    ┆ 70       ┆ … ┆ 1.0    ┆ 0.33 ┆ 59.425505 ┆ 212.121212  │\n",
       "│ All-Bran with Extra Fiber ┆ K   ┆ C    ┆ 50       ┆ … ┆ 1.0    ┆ 0.5  ┆ 93.704912 ┆ 100.0       │\n",
       "│ Almond Delight            ┆ R   ┆ C    ┆ 110      ┆ … ┆ 1.0    ┆ 0.75 ┆ 34.384843 ┆ 146.666667  │\n",
       "│ …                         ┆ …   ┆ …    ┆ …        ┆ … ┆ …      ┆ …    ┆ …         ┆ …           │\n",
       "│ Triples                   ┆ G   ┆ C    ┆ 110      ┆ … ┆ 1.0    ┆ 0.75 ┆ 39.106174 ┆ 146.666667  │\n",
       "│ Trix                      ┆ G   ┆ C    ┆ 110      ┆ … ┆ 1.0    ┆ 1.0  ┆ 27.753301 ┆ 110.0       │\n",
       "│ Wheat Chex                ┆ R   ┆ C    ┆ 100      ┆ … ┆ 1.0    ┆ 0.67 ┆ 49.787445 ┆ 149.253731  │\n",
       "│ Wheaties                  ┆ G   ┆ C    ┆ 100      ┆ … ┆ 1.0    ┆ 1.0  ┆ 51.592193 ┆ 100.0       │\n",
       "│ Wheaties Honey Gold       ┆ G   ┆ C    ┆ 110      ┆ … ┆ 1.0    ┆ 0.75 ┆ 36.187559 ┆ 146.666667  │\n",
       "└───────────────────────────┴─────┴──────┴──────────┴───┴────────┴──────┴───────────┴─────────────┘"
      ]
     },
     "execution_count": 16,
     "metadata": {},
     "output_type": "execute_result"
    }
   ],
   "source": [
    "cereal.with_columns( (pl.col('calories')/pl.col('cups')).alias('cal_per_cup') )"
   ]
  },
  {
   "cell_type": "markdown",
   "id": "ed67470f",
   "metadata": {},
   "source": [
    "You can add multiple columns, just separate them with a commas in the `.with_columns()` method.\n",
    "\n",
    "_TIP: Instead of creating these new columns in series, Polars can create them in parallel for much speedier calculations!_"
   ]
  },
  {
   "cell_type": "code",
   "execution_count": 17,
   "id": "6c170f72",
   "metadata": {},
   "outputs": [
    {
     "data": {
      "text/html": [
       "<div><style>\n",
       ".dataframe > thead > tr,\n",
       ".dataframe > tbody > tr {\n",
       "  text-align: right;\n",
       "  white-space: pre-wrap;\n",
       "}\n",
       "</style>\n",
       "<small>shape: (77, 18)</small><table border=\"1\" class=\"dataframe\"><thead><tr><th>name</th><th>mfr</th><th>type</th><th>calories</th><th>protein</th><th>fat</th><th>sodium</th><th>fiber</th><th>carbo</th><th>sugars</th><th>potass</th><th>vitamins</th><th>shelf</th><th>weight</th><th>cups</th><th>rating</th><th>cal_per_cup</th><th>high_sugar</th></tr><tr><td>str</td><td>str</td><td>str</td><td>i64</td><td>i64</td><td>i64</td><td>i64</td><td>f64</td><td>f64</td><td>i64</td><td>i64</td><td>i64</td><td>i64</td><td>f64</td><td>f64</td><td>f64</td><td>f64</td><td>bool</td></tr></thead><tbody><tr><td>&quot;100% Bran&quot;</td><td>&quot;N&quot;</td><td>&quot;C&quot;</td><td>70</td><td>4</td><td>1</td><td>130</td><td>10.0</td><td>5.0</td><td>6</td><td>280</td><td>25</td><td>3</td><td>1.0</td><td>0.33</td><td>68.402973</td><td>212.121212</td><td>false</td></tr><tr><td>&quot;100% Natural Bran&quot;</td><td>&quot;Q&quot;</td><td>&quot;C&quot;</td><td>120</td><td>3</td><td>5</td><td>15</td><td>2.0</td><td>8.0</td><td>8</td><td>135</td><td>0</td><td>3</td><td>1.0</td><td>1.0</td><td>33.983679</td><td>120.0</td><td>false</td></tr><tr><td>&quot;All-Bran&quot;</td><td>&quot;K&quot;</td><td>&quot;C&quot;</td><td>70</td><td>4</td><td>1</td><td>260</td><td>9.0</td><td>7.0</td><td>5</td><td>320</td><td>25</td><td>3</td><td>1.0</td><td>0.33</td><td>59.425505</td><td>212.121212</td><td>false</td></tr><tr><td>&quot;All-Bran with Extra Fiber&quot;</td><td>&quot;K&quot;</td><td>&quot;C&quot;</td><td>50</td><td>4</td><td>0</td><td>140</td><td>14.0</td><td>8.0</td><td>0</td><td>330</td><td>25</td><td>3</td><td>1.0</td><td>0.5</td><td>93.704912</td><td>100.0</td><td>false</td></tr><tr><td>&quot;Almond Delight&quot;</td><td>&quot;R&quot;</td><td>&quot;C&quot;</td><td>110</td><td>2</td><td>2</td><td>200</td><td>1.0</td><td>14.0</td><td>8</td><td>-1</td><td>25</td><td>3</td><td>1.0</td><td>0.75</td><td>34.384843</td><td>146.666667</td><td>false</td></tr><tr><td>&hellip;</td><td>&hellip;</td><td>&hellip;</td><td>&hellip;</td><td>&hellip;</td><td>&hellip;</td><td>&hellip;</td><td>&hellip;</td><td>&hellip;</td><td>&hellip;</td><td>&hellip;</td><td>&hellip;</td><td>&hellip;</td><td>&hellip;</td><td>&hellip;</td><td>&hellip;</td><td>&hellip;</td><td>&hellip;</td></tr><tr><td>&quot;Triples&quot;</td><td>&quot;G&quot;</td><td>&quot;C&quot;</td><td>110</td><td>2</td><td>1</td><td>250</td><td>0.0</td><td>21.0</td><td>3</td><td>60</td><td>25</td><td>3</td><td>1.0</td><td>0.75</td><td>39.106174</td><td>146.666667</td><td>false</td></tr><tr><td>&quot;Trix&quot;</td><td>&quot;G&quot;</td><td>&quot;C&quot;</td><td>110</td><td>1</td><td>1</td><td>140</td><td>0.0</td><td>13.0</td><td>12</td><td>25</td><td>25</td><td>2</td><td>1.0</td><td>1.0</td><td>27.753301</td><td>110.0</td><td>true</td></tr><tr><td>&quot;Wheat Chex&quot;</td><td>&quot;R&quot;</td><td>&quot;C&quot;</td><td>100</td><td>3</td><td>1</td><td>230</td><td>3.0</td><td>17.0</td><td>3</td><td>115</td><td>25</td><td>1</td><td>1.0</td><td>0.67</td><td>49.787445</td><td>149.253731</td><td>false</td></tr><tr><td>&quot;Wheaties&quot;</td><td>&quot;G&quot;</td><td>&quot;C&quot;</td><td>100</td><td>3</td><td>1</td><td>200</td><td>3.0</td><td>17.0</td><td>3</td><td>110</td><td>25</td><td>1</td><td>1.0</td><td>1.0</td><td>51.592193</td><td>100.0</td><td>false</td></tr><tr><td>&quot;Wheaties Honey Gold&quot;</td><td>&quot;G&quot;</td><td>&quot;C&quot;</td><td>110</td><td>2</td><td>1</td><td>200</td><td>1.0</td><td>16.0</td><td>8</td><td>60</td><td>25</td><td>1</td><td>1.0</td><td>0.75</td><td>36.187559</td><td>146.666667</td><td>false</td></tr></tbody></table></div>"
      ],
      "text/plain": [
       "shape: (77, 18)\n",
       "┌─────────────────────┬─────┬──────┬──────────┬───┬──────┬───────────┬─────────────┬────────────┐\n",
       "│ name                ┆ mfr ┆ type ┆ calories ┆ … ┆ cups ┆ rating    ┆ cal_per_cup ┆ high_sugar │\n",
       "│ ---                 ┆ --- ┆ ---  ┆ ---      ┆   ┆ ---  ┆ ---       ┆ ---         ┆ ---        │\n",
       "│ str                 ┆ str ┆ str  ┆ i64      ┆   ┆ f64  ┆ f64       ┆ f64         ┆ bool       │\n",
       "╞═════════════════════╪═════╪══════╪══════════╪═══╪══════╪═══════════╪═════════════╪════════════╡\n",
       "│ 100% Bran           ┆ N   ┆ C    ┆ 70       ┆ … ┆ 0.33 ┆ 68.402973 ┆ 212.121212  ┆ false      │\n",
       "│ 100% Natural Bran   ┆ Q   ┆ C    ┆ 120      ┆ … ┆ 1.0  ┆ 33.983679 ┆ 120.0       ┆ false      │\n",
       "│ All-Bran            ┆ K   ┆ C    ┆ 70       ┆ … ┆ 0.33 ┆ 59.425505 ┆ 212.121212  ┆ false      │\n",
       "│ All-Bran with Extra ┆ K   ┆ C    ┆ 50       ┆ … ┆ 0.5  ┆ 93.704912 ┆ 100.0       ┆ false      │\n",
       "│ Fiber               ┆     ┆      ┆          ┆   ┆      ┆           ┆             ┆            │\n",
       "│ Almond Delight      ┆ R   ┆ C    ┆ 110      ┆ … ┆ 0.75 ┆ 34.384843 ┆ 146.666667  ┆ false      │\n",
       "│ …                   ┆ …   ┆ …    ┆ …        ┆ … ┆ …    ┆ …         ┆ …           ┆ …          │\n",
       "│ Triples             ┆ G   ┆ C    ┆ 110      ┆ … ┆ 0.75 ┆ 39.106174 ┆ 146.666667  ┆ false      │\n",
       "│ Trix                ┆ G   ┆ C    ┆ 110      ┆ … ┆ 1.0  ┆ 27.753301 ┆ 110.0       ┆ true       │\n",
       "│ Wheat Chex          ┆ R   ┆ C    ┆ 100      ┆ … ┆ 0.67 ┆ 49.787445 ┆ 149.253731  ┆ false      │\n",
       "│ Wheaties            ┆ G   ┆ C    ┆ 100      ┆ … ┆ 1.0  ┆ 51.592193 ┆ 100.0       ┆ false      │\n",
       "│ Wheaties Honey Gold ┆ G   ┆ C    ┆ 110      ┆ … ┆ 0.75 ┆ 36.187559 ┆ 146.666667  ┆ false      │\n",
       "└─────────────────────┴─────┴──────┴──────────┴───┴──────┴───────────┴─────────────┴────────────┘"
      ]
     },
     "execution_count": 17,
     "metadata": {},
     "output_type": "execute_result"
    }
   ],
   "source": [
    "cereal.with_columns( \n",
    "    (pl.col('calories')/pl.col('cups')).alias('cal_per_cup'),\n",
    "    (pl.col('sugars') >= 10).alias('high_sugar')\n",
    ")"
   ]
  },
  {
   "cell_type": "markdown",
   "id": "4fcb3b97",
   "metadata": {},
   "source": [
    "None of the columns we've created appear in our `cereal` dataframe. Changes don't stick around unless you save the output of `.with_columns()`."
   ]
  },
  {
   "cell_type": "code",
   "execution_count": 18,
   "id": "f5b7979a",
   "metadata": {},
   "outputs": [
    {
     "data": {
      "text/html": [
       "<div><style>\n",
       ".dataframe > thead > tr,\n",
       ".dataframe > tbody > tr {\n",
       "  text-align: right;\n",
       "  white-space: pre-wrap;\n",
       "}\n",
       "</style>\n",
       "<small>shape: (77, 16)</small><table border=\"1\" class=\"dataframe\"><thead><tr><th>name</th><th>mfr</th><th>type</th><th>calories</th><th>protein</th><th>fat</th><th>sodium</th><th>fiber</th><th>carbo</th><th>sugars</th><th>potass</th><th>vitamins</th><th>shelf</th><th>weight</th><th>cups</th><th>rating</th></tr><tr><td>str</td><td>str</td><td>str</td><td>i64</td><td>i64</td><td>i64</td><td>i64</td><td>f64</td><td>f64</td><td>i64</td><td>i64</td><td>i64</td><td>i64</td><td>f64</td><td>f64</td><td>f64</td></tr></thead><tbody><tr><td>&quot;100% Bran&quot;</td><td>&quot;N&quot;</td><td>&quot;C&quot;</td><td>70</td><td>4</td><td>1</td><td>130</td><td>10.0</td><td>5.0</td><td>6</td><td>280</td><td>25</td><td>3</td><td>1.0</td><td>0.33</td><td>68.402973</td></tr><tr><td>&quot;100% Natural Bran&quot;</td><td>&quot;Q&quot;</td><td>&quot;C&quot;</td><td>120</td><td>3</td><td>5</td><td>15</td><td>2.0</td><td>8.0</td><td>8</td><td>135</td><td>0</td><td>3</td><td>1.0</td><td>1.0</td><td>33.983679</td></tr><tr><td>&quot;All-Bran&quot;</td><td>&quot;K&quot;</td><td>&quot;C&quot;</td><td>70</td><td>4</td><td>1</td><td>260</td><td>9.0</td><td>7.0</td><td>5</td><td>320</td><td>25</td><td>3</td><td>1.0</td><td>0.33</td><td>59.425505</td></tr><tr><td>&quot;All-Bran with Extra Fiber&quot;</td><td>&quot;K&quot;</td><td>&quot;C&quot;</td><td>50</td><td>4</td><td>0</td><td>140</td><td>14.0</td><td>8.0</td><td>0</td><td>330</td><td>25</td><td>3</td><td>1.0</td><td>0.5</td><td>93.704912</td></tr><tr><td>&quot;Almond Delight&quot;</td><td>&quot;R&quot;</td><td>&quot;C&quot;</td><td>110</td><td>2</td><td>2</td><td>200</td><td>1.0</td><td>14.0</td><td>8</td><td>-1</td><td>25</td><td>3</td><td>1.0</td><td>0.75</td><td>34.384843</td></tr><tr><td>&hellip;</td><td>&hellip;</td><td>&hellip;</td><td>&hellip;</td><td>&hellip;</td><td>&hellip;</td><td>&hellip;</td><td>&hellip;</td><td>&hellip;</td><td>&hellip;</td><td>&hellip;</td><td>&hellip;</td><td>&hellip;</td><td>&hellip;</td><td>&hellip;</td><td>&hellip;</td></tr><tr><td>&quot;Triples&quot;</td><td>&quot;G&quot;</td><td>&quot;C&quot;</td><td>110</td><td>2</td><td>1</td><td>250</td><td>0.0</td><td>21.0</td><td>3</td><td>60</td><td>25</td><td>3</td><td>1.0</td><td>0.75</td><td>39.106174</td></tr><tr><td>&quot;Trix&quot;</td><td>&quot;G&quot;</td><td>&quot;C&quot;</td><td>110</td><td>1</td><td>1</td><td>140</td><td>0.0</td><td>13.0</td><td>12</td><td>25</td><td>25</td><td>2</td><td>1.0</td><td>1.0</td><td>27.753301</td></tr><tr><td>&quot;Wheat Chex&quot;</td><td>&quot;R&quot;</td><td>&quot;C&quot;</td><td>100</td><td>3</td><td>1</td><td>230</td><td>3.0</td><td>17.0</td><td>3</td><td>115</td><td>25</td><td>1</td><td>1.0</td><td>0.67</td><td>49.787445</td></tr><tr><td>&quot;Wheaties&quot;</td><td>&quot;G&quot;</td><td>&quot;C&quot;</td><td>100</td><td>3</td><td>1</td><td>200</td><td>3.0</td><td>17.0</td><td>3</td><td>110</td><td>25</td><td>1</td><td>1.0</td><td>1.0</td><td>51.592193</td></tr><tr><td>&quot;Wheaties Honey Gold&quot;</td><td>&quot;G&quot;</td><td>&quot;C&quot;</td><td>110</td><td>2</td><td>1</td><td>200</td><td>1.0</td><td>16.0</td><td>8</td><td>60</td><td>25</td><td>1</td><td>1.0</td><td>0.75</td><td>36.187559</td></tr></tbody></table></div>"
      ],
      "text/plain": [
       "shape: (77, 16)\n",
       "┌───────────────────────────┬─────┬──────┬──────────┬───┬───────┬────────┬──────┬───────────┐\n",
       "│ name                      ┆ mfr ┆ type ┆ calories ┆ … ┆ shelf ┆ weight ┆ cups ┆ rating    │\n",
       "│ ---                       ┆ --- ┆ ---  ┆ ---      ┆   ┆ ---   ┆ ---    ┆ ---  ┆ ---       │\n",
       "│ str                       ┆ str ┆ str  ┆ i64      ┆   ┆ i64   ┆ f64    ┆ f64  ┆ f64       │\n",
       "╞═══════════════════════════╪═════╪══════╪══════════╪═══╪═══════╪════════╪══════╪═══════════╡\n",
       "│ 100% Bran                 ┆ N   ┆ C    ┆ 70       ┆ … ┆ 3     ┆ 1.0    ┆ 0.33 ┆ 68.402973 │\n",
       "│ 100% Natural Bran         ┆ Q   ┆ C    ┆ 120      ┆ … ┆ 3     ┆ 1.0    ┆ 1.0  ┆ 33.983679 │\n",
       "│ All-Bran                  ┆ K   ┆ C    ┆ 70       ┆ … ┆ 3     ┆ 1.0    ┆ 0.33 ┆ 59.425505 │\n",
       "│ All-Bran with Extra Fiber ┆ K   ┆ C    ┆ 50       ┆ … ┆ 3     ┆ 1.0    ┆ 0.5  ┆ 93.704912 │\n",
       "│ Almond Delight            ┆ R   ┆ C    ┆ 110      ┆ … ┆ 3     ┆ 1.0    ┆ 0.75 ┆ 34.384843 │\n",
       "│ …                         ┆ …   ┆ …    ┆ …        ┆ … ┆ …     ┆ …      ┆ …    ┆ …         │\n",
       "│ Triples                   ┆ G   ┆ C    ┆ 110      ┆ … ┆ 3     ┆ 1.0    ┆ 0.75 ┆ 39.106174 │\n",
       "│ Trix                      ┆ G   ┆ C    ┆ 110      ┆ … ┆ 2     ┆ 1.0    ┆ 1.0  ┆ 27.753301 │\n",
       "│ Wheat Chex                ┆ R   ┆ C    ┆ 100      ┆ … ┆ 1     ┆ 1.0    ┆ 0.67 ┆ 49.787445 │\n",
       "│ Wheaties                  ┆ G   ┆ C    ┆ 100      ┆ … ┆ 1     ┆ 1.0    ┆ 1.0  ┆ 51.592193 │\n",
       "│ Wheaties Honey Gold       ┆ G   ┆ C    ┆ 110      ┆ … ┆ 1     ┆ 1.0    ┆ 0.75 ┆ 36.187559 │\n",
       "└───────────────────────────┴─────┴──────┴──────────┴───┴───────┴────────┴──────┴───────────┘"
      ]
     },
     "execution_count": 18,
     "metadata": {},
     "output_type": "execute_result"
    }
   ],
   "source": [
    "cereal"
   ]
  },
  {
   "cell_type": "markdown",
   "id": "523ccc85",
   "metadata": {},
   "source": [
    "## Missing Values"
   ]
  },
  {
   "cell_type": "markdown",
   "id": "cde57a55",
   "metadata": {},
   "source": [
    "You can look at descriptive statistics, along with the number of missing values, using the `.describe()` method."
   ]
  },
  {
   "cell_type": "code",
   "execution_count": 19,
   "id": "fc17863d",
   "metadata": {},
   "outputs": [
    {
     "data": {
      "text/html": [
       "<div><style>\n",
       ".dataframe > thead > tr,\n",
       ".dataframe > tbody > tr {\n",
       "  text-align: right;\n",
       "  white-space: pre-wrap;\n",
       "}\n",
       "</style>\n",
       "<small>shape: (9, 17)</small><table border=\"1\" class=\"dataframe\"><thead><tr><th>statistic</th><th>name</th><th>mfr</th><th>type</th><th>calories</th><th>protein</th><th>fat</th><th>sodium</th><th>fiber</th><th>carbo</th><th>sugars</th><th>potass</th><th>vitamins</th><th>shelf</th><th>weight</th><th>cups</th><th>rating</th></tr><tr><td>str</td><td>str</td><td>str</td><td>str</td><td>f64</td><td>f64</td><td>f64</td><td>f64</td><td>f64</td><td>f64</td><td>f64</td><td>f64</td><td>f64</td><td>f64</td><td>f64</td><td>f64</td><td>f64</td></tr></thead><tbody><tr><td>&quot;count&quot;</td><td>&quot;77&quot;</td><td>&quot;77&quot;</td><td>&quot;77&quot;</td><td>77.0</td><td>77.0</td><td>77.0</td><td>77.0</td><td>77.0</td><td>77.0</td><td>77.0</td><td>77.0</td><td>77.0</td><td>77.0</td><td>77.0</td><td>77.0</td><td>77.0</td></tr><tr><td>&quot;null_count&quot;</td><td>&quot;0&quot;</td><td>&quot;0&quot;</td><td>&quot;0&quot;</td><td>0.0</td><td>0.0</td><td>0.0</td><td>0.0</td><td>0.0</td><td>0.0</td><td>0.0</td><td>0.0</td><td>0.0</td><td>0.0</td><td>0.0</td><td>0.0</td><td>0.0</td></tr><tr><td>&quot;mean&quot;</td><td>null</td><td>null</td><td>null</td><td>106.883117</td><td>2.545455</td><td>1.012987</td><td>159.675325</td><td>2.151948</td><td>14.597403</td><td>6.922078</td><td>96.077922</td><td>28.246753</td><td>2.207792</td><td>1.02961</td><td>0.821039</td><td>42.665705</td></tr><tr><td>&quot;std&quot;</td><td>null</td><td>null</td><td>null</td><td>19.484119</td><td>1.09479</td><td>1.006473</td><td>83.832295</td><td>2.383364</td><td>4.278956</td><td>4.444885</td><td>71.286813</td><td>22.342523</td><td>0.832524</td><td>0.150477</td><td>0.232716</td><td>14.047289</td></tr><tr><td>&quot;min&quot;</td><td>&quot;100% Bran&quot;</td><td>&quot;A&quot;</td><td>&quot;C&quot;</td><td>50.0</td><td>1.0</td><td>0.0</td><td>0.0</td><td>0.0</td><td>-1.0</td><td>-1.0</td><td>-1.0</td><td>0.0</td><td>1.0</td><td>0.5</td><td>0.25</td><td>18.042851</td></tr><tr><td>&quot;25%&quot;</td><td>null</td><td>null</td><td>null</td><td>100.0</td><td>2.0</td><td>0.0</td><td>130.0</td><td>1.0</td><td>12.0</td><td>3.0</td><td>40.0</td><td>25.0</td><td>1.0</td><td>1.0</td><td>0.67</td><td>33.174094</td></tr><tr><td>&quot;50%&quot;</td><td>null</td><td>null</td><td>null</td><td>110.0</td><td>3.0</td><td>1.0</td><td>180.0</td><td>2.0</td><td>14.0</td><td>7.0</td><td>90.0</td><td>25.0</td><td>2.0</td><td>1.0</td><td>0.75</td><td>40.400208</td></tr><tr><td>&quot;75%&quot;</td><td>null</td><td>null</td><td>null</td><td>110.0</td><td>3.0</td><td>2.0</td><td>210.0</td><td>3.0</td><td>17.0</td><td>11.0</td><td>120.0</td><td>25.0</td><td>3.0</td><td>1.0</td><td>1.0</td><td>50.828392</td></tr><tr><td>&quot;max&quot;</td><td>&quot;Wheaties Honey Gold&quot;</td><td>&quot;R&quot;</td><td>&quot;H&quot;</td><td>160.0</td><td>6.0</td><td>5.0</td><td>320.0</td><td>14.0</td><td>23.0</td><td>15.0</td><td>330.0</td><td>100.0</td><td>3.0</td><td>1.5</td><td>1.5</td><td>93.704912</td></tr></tbody></table></div>"
      ],
      "text/plain": [
       "shape: (9, 17)\n",
       "┌────────────┬─────────────────────┬──────┬──────┬───┬──────────┬──────────┬──────────┬───────────┐\n",
       "│ statistic  ┆ name                ┆ mfr  ┆ type ┆ … ┆ shelf    ┆ weight   ┆ cups     ┆ rating    │\n",
       "│ ---        ┆ ---                 ┆ ---  ┆ ---  ┆   ┆ ---      ┆ ---      ┆ ---      ┆ ---       │\n",
       "│ str        ┆ str                 ┆ str  ┆ str  ┆   ┆ f64      ┆ f64      ┆ f64      ┆ f64       │\n",
       "╞════════════╪═════════════════════╪══════╪══════╪═══╪══════════╪══════════╪══════════╪═══════════╡\n",
       "│ count      ┆ 77                  ┆ 77   ┆ 77   ┆ … ┆ 77.0     ┆ 77.0     ┆ 77.0     ┆ 77.0      │\n",
       "│ null_count ┆ 0                   ┆ 0    ┆ 0    ┆ … ┆ 0.0      ┆ 0.0      ┆ 0.0      ┆ 0.0       │\n",
       "│ mean       ┆ null                ┆ null ┆ null ┆ … ┆ 2.207792 ┆ 1.02961  ┆ 0.821039 ┆ 42.665705 │\n",
       "│ std        ┆ null                ┆ null ┆ null ┆ … ┆ 0.832524 ┆ 0.150477 ┆ 0.232716 ┆ 14.047289 │\n",
       "│ min        ┆ 100% Bran           ┆ A    ┆ C    ┆ … ┆ 1.0      ┆ 0.5      ┆ 0.25     ┆ 18.042851 │\n",
       "│ 25%        ┆ null                ┆ null ┆ null ┆ … ┆ 1.0      ┆ 1.0      ┆ 0.67     ┆ 33.174094 │\n",
       "│ 50%        ┆ null                ┆ null ┆ null ┆ … ┆ 2.0      ┆ 1.0      ┆ 0.75     ┆ 40.400208 │\n",
       "│ 75%        ┆ null                ┆ null ┆ null ┆ … ┆ 3.0      ┆ 1.0      ┆ 1.0      ┆ 50.828392 │\n",
       "│ max        ┆ Wheaties Honey Gold ┆ R    ┆ H    ┆ … ┆ 3.0      ┆ 1.5      ┆ 1.5      ┆ 93.704912 │\n",
       "└────────────┴─────────────────────┴──────┴──────┴───┴──────────┴──────────┴──────────┴───────────┘"
      ]
     },
     "execution_count": 19,
     "metadata": {},
     "output_type": "execute_result"
    }
   ],
   "source": [
    "cereal.describe()"
   ]
  },
  {
   "cell_type": "markdown",
   "id": "2246539c",
   "metadata": {},
   "source": [
    "It appears there are no null values in this dataset; however, -1 signifies missings."
   ]
  },
  {
   "cell_type": "code",
   "execution_count": 20,
   "id": "b3158182",
   "metadata": {},
   "outputs": [
    {
     "data": {
      "text/html": [
       "<div><style>\n",
       ".dataframe > thead > tr,\n",
       ".dataframe > tbody > tr {\n",
       "  text-align: right;\n",
       "  white-space: pre-wrap;\n",
       "}\n",
       "</style>\n",
       "<small>shape: (2, 16)</small><table border=\"1\" class=\"dataframe\"><thead><tr><th>name</th><th>mfr</th><th>type</th><th>calories</th><th>protein</th><th>fat</th><th>sodium</th><th>fiber</th><th>carbo</th><th>sugars</th><th>potass</th><th>vitamins</th><th>shelf</th><th>weight</th><th>cups</th><th>rating</th></tr><tr><td>str</td><td>str</td><td>str</td><td>i64</td><td>i64</td><td>i64</td><td>i64</td><td>f64</td><td>f64</td><td>i64</td><td>i64</td><td>i64</td><td>i64</td><td>f64</td><td>f64</td><td>f64</td></tr></thead><tbody><tr><td>&quot;Almond Delight&quot;</td><td>&quot;R&quot;</td><td>&quot;C&quot;</td><td>110</td><td>2</td><td>2</td><td>200</td><td>1.0</td><td>14.0</td><td>8</td><td>-1</td><td>25</td><td>3</td><td>1.0</td><td>0.75</td><td>34.384843</td></tr><tr><td>&quot;Cream of Wheat (Quick)&quot;</td><td>&quot;N&quot;</td><td>&quot;H&quot;</td><td>100</td><td>3</td><td>0</td><td>80</td><td>1.0</td><td>21.0</td><td>0</td><td>-1</td><td>0</td><td>2</td><td>1.0</td><td>1.0</td><td>64.533816</td></tr></tbody></table></div>"
      ],
      "text/plain": [
       "shape: (2, 16)\n",
       "┌────────────────────────┬─────┬──────┬──────────┬───┬───────┬────────┬──────┬───────────┐\n",
       "│ name                   ┆ mfr ┆ type ┆ calories ┆ … ┆ shelf ┆ weight ┆ cups ┆ rating    │\n",
       "│ ---                    ┆ --- ┆ ---  ┆ ---      ┆   ┆ ---   ┆ ---    ┆ ---  ┆ ---       │\n",
       "│ str                    ┆ str ┆ str  ┆ i64      ┆   ┆ i64   ┆ f64    ┆ f64  ┆ f64       │\n",
       "╞════════════════════════╪═════╪══════╪══════════╪═══╪═══════╪════════╪══════╪═══════════╡\n",
       "│ Almond Delight         ┆ R   ┆ C    ┆ 110      ┆ … ┆ 3     ┆ 1.0    ┆ 0.75 ┆ 34.384843 │\n",
       "│ Cream of Wheat (Quick) ┆ N   ┆ H    ┆ 100      ┆ … ┆ 2     ┆ 1.0    ┆ 1.0  ┆ 64.533816 │\n",
       "└────────────────────────┴─────┴──────┴──────────┴───┴───────┴────────┴──────┴───────────┘"
      ]
     },
     "execution_count": 20,
     "metadata": {},
     "output_type": "execute_result"
    }
   ],
   "source": [
    "cereal.filter(pl.col('potass') == -1)"
   ]
  },
  {
   "cell_type": "markdown",
   "id": "a7a220b4",
   "metadata": {},
   "source": [
    "The `read_csv()` function offers many options to handle your data upon import, including a way to detect missing value characters.\n",
    "\n",
    "Let's reload the data but specify that -1 indicates a missing value."
   ]
  },
  {
   "cell_type": "code",
   "execution_count": 21,
   "id": "01e80381",
   "metadata": {},
   "outputs": [],
   "source": [
    "cereal = pl.read_csv(\n",
    "    'https://raw.githubusercontent.com/kimfetti/Projects/master/Etc/cereal.csv',\n",
    "    null_values = '-1'\n",
    ")"
   ]
  },
  {
   "cell_type": "markdown",
   "id": "99f2223e",
   "metadata": {},
   "source": [
    "Now we correctly observe a \"null\" for the potassium value for \"Almond Delight.\""
   ]
  },
  {
   "cell_type": "code",
   "execution_count": 22,
   "id": "6019a4e0",
   "metadata": {},
   "outputs": [
    {
     "data": {
      "text/html": [
       "<div><style>\n",
       ".dataframe > thead > tr,\n",
       ".dataframe > tbody > tr {\n",
       "  text-align: right;\n",
       "  white-space: pre-wrap;\n",
       "}\n",
       "</style>\n",
       "<small>shape: (5, 16)</small><table border=\"1\" class=\"dataframe\"><thead><tr><th>name</th><th>mfr</th><th>type</th><th>calories</th><th>protein</th><th>fat</th><th>sodium</th><th>fiber</th><th>carbo</th><th>sugars</th><th>potass</th><th>vitamins</th><th>shelf</th><th>weight</th><th>cups</th><th>rating</th></tr><tr><td>str</td><td>str</td><td>str</td><td>i64</td><td>i64</td><td>i64</td><td>i64</td><td>f64</td><td>f64</td><td>i64</td><td>i64</td><td>i64</td><td>i64</td><td>f64</td><td>f64</td><td>f64</td></tr></thead><tbody><tr><td>&quot;100% Bran&quot;</td><td>&quot;N&quot;</td><td>&quot;C&quot;</td><td>70</td><td>4</td><td>1</td><td>130</td><td>10.0</td><td>5.0</td><td>6</td><td>280</td><td>25</td><td>3</td><td>1.0</td><td>0.33</td><td>68.402973</td></tr><tr><td>&quot;100% Natural Bran&quot;</td><td>&quot;Q&quot;</td><td>&quot;C&quot;</td><td>120</td><td>3</td><td>5</td><td>15</td><td>2.0</td><td>8.0</td><td>8</td><td>135</td><td>0</td><td>3</td><td>1.0</td><td>1.0</td><td>33.983679</td></tr><tr><td>&quot;All-Bran&quot;</td><td>&quot;K&quot;</td><td>&quot;C&quot;</td><td>70</td><td>4</td><td>1</td><td>260</td><td>9.0</td><td>7.0</td><td>5</td><td>320</td><td>25</td><td>3</td><td>1.0</td><td>0.33</td><td>59.425505</td></tr><tr><td>&quot;All-Bran with Extra Fiber&quot;</td><td>&quot;K&quot;</td><td>&quot;C&quot;</td><td>50</td><td>4</td><td>0</td><td>140</td><td>14.0</td><td>8.0</td><td>0</td><td>330</td><td>25</td><td>3</td><td>1.0</td><td>0.5</td><td>93.704912</td></tr><tr><td>&quot;Almond Delight&quot;</td><td>&quot;R&quot;</td><td>&quot;C&quot;</td><td>110</td><td>2</td><td>2</td><td>200</td><td>1.0</td><td>14.0</td><td>8</td><td>null</td><td>25</td><td>3</td><td>1.0</td><td>0.75</td><td>34.384843</td></tr></tbody></table></div>"
      ],
      "text/plain": [
       "shape: (5, 16)\n",
       "┌───────────────────────────┬─────┬──────┬──────────┬───┬───────┬────────┬──────┬───────────┐\n",
       "│ name                      ┆ mfr ┆ type ┆ calories ┆ … ┆ shelf ┆ weight ┆ cups ┆ rating    │\n",
       "│ ---                       ┆ --- ┆ ---  ┆ ---      ┆   ┆ ---   ┆ ---    ┆ ---  ┆ ---       │\n",
       "│ str                       ┆ str ┆ str  ┆ i64      ┆   ┆ i64   ┆ f64    ┆ f64  ┆ f64       │\n",
       "╞═══════════════════════════╪═════╪══════╪══════════╪═══╪═══════╪════════╪══════╪═══════════╡\n",
       "│ 100% Bran                 ┆ N   ┆ C    ┆ 70       ┆ … ┆ 3     ┆ 1.0    ┆ 0.33 ┆ 68.402973 │\n",
       "│ 100% Natural Bran         ┆ Q   ┆ C    ┆ 120      ┆ … ┆ 3     ┆ 1.0    ┆ 1.0  ┆ 33.983679 │\n",
       "│ All-Bran                  ┆ K   ┆ C    ┆ 70       ┆ … ┆ 3     ┆ 1.0    ┆ 0.33 ┆ 59.425505 │\n",
       "│ All-Bran with Extra Fiber ┆ K   ┆ C    ┆ 50       ┆ … ┆ 3     ┆ 1.0    ┆ 0.5  ┆ 93.704912 │\n",
       "│ Almond Delight            ┆ R   ┆ C    ┆ 110      ┆ … ┆ 3     ┆ 1.0    ┆ 0.75 ┆ 34.384843 │\n",
       "└───────────────────────────┴─────┴──────┴──────────┴───┴───────┴────────┴──────┴───────────┘"
      ]
     },
     "execution_count": 22,
     "metadata": {},
     "output_type": "execute_result"
    }
   ],
   "source": [
    "cereal.head()"
   ]
  },
  {
   "cell_type": "markdown",
   "id": "3f932407",
   "metadata": {},
   "source": [
    "To find missing values, use `.is_null()`."
   ]
  },
  {
   "cell_type": "code",
   "execution_count": 23,
   "id": "11d5956a",
   "metadata": {},
   "outputs": [
    {
     "data": {
      "text/html": [
       "<div><style>\n",
       ".dataframe > thead > tr,\n",
       ".dataframe > tbody > tr {\n",
       "  text-align: right;\n",
       "  white-space: pre-wrap;\n",
       "}\n",
       "</style>\n",
       "<small>shape: (2, 16)</small><table border=\"1\" class=\"dataframe\"><thead><tr><th>name</th><th>mfr</th><th>type</th><th>calories</th><th>protein</th><th>fat</th><th>sodium</th><th>fiber</th><th>carbo</th><th>sugars</th><th>potass</th><th>vitamins</th><th>shelf</th><th>weight</th><th>cups</th><th>rating</th></tr><tr><td>str</td><td>str</td><td>str</td><td>i64</td><td>i64</td><td>i64</td><td>i64</td><td>f64</td><td>f64</td><td>i64</td><td>i64</td><td>i64</td><td>i64</td><td>f64</td><td>f64</td><td>f64</td></tr></thead><tbody><tr><td>&quot;Almond Delight&quot;</td><td>&quot;R&quot;</td><td>&quot;C&quot;</td><td>110</td><td>2</td><td>2</td><td>200</td><td>1.0</td><td>14.0</td><td>8</td><td>null</td><td>25</td><td>3</td><td>1.0</td><td>0.75</td><td>34.384843</td></tr><tr><td>&quot;Cream of Wheat (Quick)&quot;</td><td>&quot;N&quot;</td><td>&quot;H&quot;</td><td>100</td><td>3</td><td>0</td><td>80</td><td>1.0</td><td>21.0</td><td>0</td><td>null</td><td>0</td><td>2</td><td>1.0</td><td>1.0</td><td>64.533816</td></tr></tbody></table></div>"
      ],
      "text/plain": [
       "shape: (2, 16)\n",
       "┌────────────────────────┬─────┬──────┬──────────┬───┬───────┬────────┬──────┬───────────┐\n",
       "│ name                   ┆ mfr ┆ type ┆ calories ┆ … ┆ shelf ┆ weight ┆ cups ┆ rating    │\n",
       "│ ---                    ┆ --- ┆ ---  ┆ ---      ┆   ┆ ---   ┆ ---    ┆ ---  ┆ ---       │\n",
       "│ str                    ┆ str ┆ str  ┆ i64      ┆   ┆ i64   ┆ f64    ┆ f64  ┆ f64       │\n",
       "╞════════════════════════╪═════╪══════╪══════════╪═══╪═══════╪════════╪══════╪═══════════╡\n",
       "│ Almond Delight         ┆ R   ┆ C    ┆ 110      ┆ … ┆ 3     ┆ 1.0    ┆ 0.75 ┆ 34.384843 │\n",
       "│ Cream of Wheat (Quick) ┆ N   ┆ H    ┆ 100      ┆ … ┆ 2     ┆ 1.0    ┆ 1.0  ┆ 64.533816 │\n",
       "└────────────────────────┴─────┴──────┴──────────┴───┴───────┴────────┴──────┴───────────┘"
      ]
     },
     "execution_count": 23,
     "metadata": {},
     "output_type": "execute_result"
    }
   ],
   "source": [
    "cereal.filter(pl.col('potass').is_null())"
   ]
  },
  {
   "cell_type": "markdown",
   "id": "5e411a88",
   "metadata": {},
   "source": [
    "To impute missing values, use `.fill_null()`."
   ]
  },
  {
   "cell_type": "code",
   "execution_count": 26,
   "id": "5aae38fb",
   "metadata": {},
   "outputs": [
    {
     "data": {
      "text/html": [
       "<div><style>\n",
       ".dataframe > thead > tr,\n",
       ".dataframe > tbody > tr {\n",
       "  text-align: right;\n",
       "  white-space: pre-wrap;\n",
       "}\n",
       "</style>\n",
       "<small>shape: (5, 16)</small><table border=\"1\" class=\"dataframe\"><thead><tr><th>name</th><th>mfr</th><th>type</th><th>calories</th><th>protein</th><th>fat</th><th>sodium</th><th>fiber</th><th>carbo</th><th>sugars</th><th>potass</th><th>vitamins</th><th>shelf</th><th>weight</th><th>cups</th><th>rating</th></tr><tr><td>str</td><td>str</td><td>str</td><td>i64</td><td>i64</td><td>i64</td><td>i64</td><td>f64</td><td>f64</td><td>i64</td><td>i64</td><td>i64</td><td>i64</td><td>f64</td><td>f64</td><td>f64</td></tr></thead><tbody><tr><td>&quot;100% Bran&quot;</td><td>&quot;N&quot;</td><td>&quot;C&quot;</td><td>70</td><td>4</td><td>1</td><td>130</td><td>10.0</td><td>5.0</td><td>6</td><td>280</td><td>25</td><td>3</td><td>1.0</td><td>0.33</td><td>68.402973</td></tr><tr><td>&quot;100% Natural Bran&quot;</td><td>&quot;Q&quot;</td><td>&quot;C&quot;</td><td>120</td><td>3</td><td>5</td><td>15</td><td>2.0</td><td>8.0</td><td>8</td><td>135</td><td>0</td><td>3</td><td>1.0</td><td>1.0</td><td>33.983679</td></tr><tr><td>&quot;All-Bran&quot;</td><td>&quot;K&quot;</td><td>&quot;C&quot;</td><td>70</td><td>4</td><td>1</td><td>260</td><td>9.0</td><td>7.0</td><td>5</td><td>320</td><td>25</td><td>3</td><td>1.0</td><td>0.33</td><td>59.425505</td></tr><tr><td>&quot;All-Bran with Extra Fiber&quot;</td><td>&quot;K&quot;</td><td>&quot;C&quot;</td><td>50</td><td>4</td><td>0</td><td>140</td><td>14.0</td><td>8.0</td><td>0</td><td>330</td><td>25</td><td>3</td><td>1.0</td><td>0.5</td><td>93.704912</td></tr><tr><td>&quot;Almond Delight&quot;</td><td>&quot;R&quot;</td><td>&quot;C&quot;</td><td>110</td><td>2</td><td>2</td><td>200</td><td>1.0</td><td>14.0</td><td>8</td><td>0</td><td>25</td><td>3</td><td>1.0</td><td>0.75</td><td>34.384843</td></tr></tbody></table></div>"
      ],
      "text/plain": [
       "shape: (5, 16)\n",
       "┌───────────────────────────┬─────┬──────┬──────────┬───┬───────┬────────┬──────┬───────────┐\n",
       "│ name                      ┆ mfr ┆ type ┆ calories ┆ … ┆ shelf ┆ weight ┆ cups ┆ rating    │\n",
       "│ ---                       ┆ --- ┆ ---  ┆ ---      ┆   ┆ ---   ┆ ---    ┆ ---  ┆ ---       │\n",
       "│ str                       ┆ str ┆ str  ┆ i64      ┆   ┆ i64   ┆ f64    ┆ f64  ┆ f64       │\n",
       "╞═══════════════════════════╪═════╪══════╪══════════╪═══╪═══════╪════════╪══════╪═══════════╡\n",
       "│ 100% Bran                 ┆ N   ┆ C    ┆ 70       ┆ … ┆ 3     ┆ 1.0    ┆ 0.33 ┆ 68.402973 │\n",
       "│ 100% Natural Bran         ┆ Q   ┆ C    ┆ 120      ┆ … ┆ 3     ┆ 1.0    ┆ 1.0  ┆ 33.983679 │\n",
       "│ All-Bran                  ┆ K   ┆ C    ┆ 70       ┆ … ┆ 3     ┆ 1.0    ┆ 0.33 ┆ 59.425505 │\n",
       "│ All-Bran with Extra Fiber ┆ K   ┆ C    ┆ 50       ┆ … ┆ 3     ┆ 1.0    ┆ 0.5  ┆ 93.704912 │\n",
       "│ Almond Delight            ┆ R   ┆ C    ┆ 110      ┆ … ┆ 3     ┆ 1.0    ┆ 0.75 ┆ 34.384843 │\n",
       "└───────────────────────────┴─────┴──────┴──────────┴───┴───────┴────────┴──────┴───────────┘"
      ]
     },
     "execution_count": 26,
     "metadata": {},
     "output_type": "execute_result"
    }
   ],
   "source": [
    "cereal.fill_null(0).head()"
   ]
  },
  {
   "cell_type": "code",
   "execution_count": 28,
   "id": "7795a82e",
   "metadata": {},
   "outputs": [
    {
     "data": {
      "text/html": [
       "<div><style>\n",
       ".dataframe > thead > tr,\n",
       ".dataframe > tbody > tr {\n",
       "  text-align: right;\n",
       "  white-space: pre-wrap;\n",
       "}\n",
       "</style>\n",
       "<small>shape: (5, 16)</small><table border=\"1\" class=\"dataframe\"><thead><tr><th>name</th><th>mfr</th><th>type</th><th>calories</th><th>protein</th><th>fat</th><th>sodium</th><th>fiber</th><th>carbo</th><th>sugars</th><th>potass</th><th>vitamins</th><th>shelf</th><th>weight</th><th>cups</th><th>rating</th></tr><tr><td>str</td><td>str</td><td>str</td><td>i64</td><td>i64</td><td>i64</td><td>i64</td><td>f64</td><td>f64</td><td>i64</td><td>i64</td><td>i64</td><td>i64</td><td>f64</td><td>f64</td><td>f64</td></tr></thead><tbody><tr><td>&quot;100% Bran&quot;</td><td>&quot;N&quot;</td><td>&quot;C&quot;</td><td>70</td><td>4</td><td>1</td><td>130</td><td>10.0</td><td>5.0</td><td>6</td><td>280</td><td>25</td><td>3</td><td>1.0</td><td>0.33</td><td>68.402973</td></tr><tr><td>&quot;100% Natural Bran&quot;</td><td>&quot;Q&quot;</td><td>&quot;C&quot;</td><td>120</td><td>3</td><td>5</td><td>15</td><td>2.0</td><td>8.0</td><td>8</td><td>135</td><td>0</td><td>3</td><td>1.0</td><td>1.0</td><td>33.983679</td></tr><tr><td>&quot;All-Bran&quot;</td><td>&quot;K&quot;</td><td>&quot;C&quot;</td><td>70</td><td>4</td><td>1</td><td>260</td><td>9.0</td><td>7.0</td><td>5</td><td>320</td><td>25</td><td>3</td><td>1.0</td><td>0.33</td><td>59.425505</td></tr><tr><td>&quot;All-Bran with Extra Fiber&quot;</td><td>&quot;K&quot;</td><td>&quot;C&quot;</td><td>50</td><td>4</td><td>0</td><td>140</td><td>14.0</td><td>8.0</td><td>0</td><td>330</td><td>25</td><td>3</td><td>1.0</td><td>0.5</td><td>93.704912</td></tr><tr><td>&quot;Almond Delight&quot;</td><td>&quot;R&quot;</td><td>&quot;C&quot;</td><td>110</td><td>2</td><td>2</td><td>200</td><td>1.0</td><td>14.0</td><td>8</td><td>98</td><td>25</td><td>3</td><td>1.0</td><td>0.75</td><td>34.384843</td></tr></tbody></table></div>"
      ],
      "text/plain": [
       "shape: (5, 16)\n",
       "┌───────────────────────────┬─────┬──────┬──────────┬───┬───────┬────────┬──────┬───────────┐\n",
       "│ name                      ┆ mfr ┆ type ┆ calories ┆ … ┆ shelf ┆ weight ┆ cups ┆ rating    │\n",
       "│ ---                       ┆ --- ┆ ---  ┆ ---      ┆   ┆ ---   ┆ ---    ┆ ---  ┆ ---       │\n",
       "│ str                       ┆ str ┆ str  ┆ i64      ┆   ┆ i64   ┆ f64    ┆ f64  ┆ f64       │\n",
       "╞═══════════════════════════╪═════╪══════╪══════════╪═══╪═══════╪════════╪══════╪═══════════╡\n",
       "│ 100% Bran                 ┆ N   ┆ C    ┆ 70       ┆ … ┆ 3     ┆ 1.0    ┆ 0.33 ┆ 68.402973 │\n",
       "│ 100% Natural Bran         ┆ Q   ┆ C    ┆ 120      ┆ … ┆ 3     ┆ 1.0    ┆ 1.0  ┆ 33.983679 │\n",
       "│ All-Bran                  ┆ K   ┆ C    ┆ 70       ┆ … ┆ 3     ┆ 1.0    ┆ 0.33 ┆ 59.425505 │\n",
       "│ All-Bran with Extra Fiber ┆ K   ┆ C    ┆ 50       ┆ … ┆ 3     ┆ 1.0    ┆ 0.5  ┆ 93.704912 │\n",
       "│ Almond Delight            ┆ R   ┆ C    ┆ 110      ┆ … ┆ 3     ┆ 1.0    ┆ 0.75 ┆ 34.384843 │\n",
       "└───────────────────────────┴─────┴──────┴──────────┴───┴───────┴────────┴──────┴───────────┘"
      ]
     },
     "execution_count": 28,
     "metadata": {},
     "output_type": "execute_result"
    }
   ],
   "source": [
    "cereal.fill_null(strategy='mean').head()"
   ]
  },
  {
   "cell_type": "markdown",
   "id": "aa526cfa",
   "metadata": {},
   "source": [
    "## Joining DataFrames"
   ]
  },
  {
   "cell_type": "markdown",
   "id": "5799c2e5",
   "metadata": {},
   "source": [
    "To demonstrate merging dataframes, here's another small dataframe with the current manufacturers of each cereal. _(\"D\" means the cereal has been discontinued.)_"
   ]
  },
  {
   "cell_type": "code",
   "execution_count": 24,
   "id": "40d03a27",
   "metadata": {},
   "outputs": [
    {
     "data": {
      "text/html": [
       "<div><style>\n",
       ".dataframe > thead > tr,\n",
       ".dataframe > tbody > tr {\n",
       "  text-align: right;\n",
       "  white-space: pre-wrap;\n",
       "}\n",
       "</style>\n",
       "<small>shape: (77, 2)</small><table border=\"1\" class=\"dataframe\"><thead><tr><th>name</th><th>current_mfr</th></tr><tr><td>str</td><td>str</td></tr></thead><tbody><tr><td>&quot;100% Bran&quot;</td><td>&quot;K&quot;</td></tr><tr><td>&quot;100% Natural Bran&quot;</td><td>&quot;D&quot;</td></tr><tr><td>&quot;All-Bran&quot;</td><td>&quot;K&quot;</td></tr><tr><td>&quot;All-Bran with Extra Fiber&quot;</td><td>&quot;D&quot;</td></tr><tr><td>&quot;Almond Delight&quot;</td><td>&quot;D&quot;</td></tr><tr><td>&hellip;</td><td>&hellip;</td></tr><tr><td>&quot;Triples&quot;</td><td>&quot;D&quot;</td></tr><tr><td>&quot;Trix&quot;</td><td>&quot;G&quot;</td></tr><tr><td>&quot;Wheat Chex&quot;</td><td>&quot;G&quot;</td></tr><tr><td>&quot;Wheaties&quot;</td><td>&quot;G&quot;</td></tr><tr><td>&quot;Wheaties Honey Gold&quot;</td><td>&quot;D&quot;</td></tr></tbody></table></div>"
      ],
      "text/plain": [
       "shape: (77, 2)\n",
       "┌───────────────────────────┬─────────────┐\n",
       "│ name                      ┆ current_mfr │\n",
       "│ ---                       ┆ ---         │\n",
       "│ str                       ┆ str         │\n",
       "╞═══════════════════════════╪═════════════╡\n",
       "│ 100% Bran                 ┆ K           │\n",
       "│ 100% Natural Bran         ┆ D           │\n",
       "│ All-Bran                  ┆ K           │\n",
       "│ All-Bran with Extra Fiber ┆ D           │\n",
       "│ Almond Delight            ┆ D           │\n",
       "│ …                         ┆ …           │\n",
       "│ Triples                   ┆ D           │\n",
       "│ Trix                      ┆ G           │\n",
       "│ Wheat Chex                ┆ G           │\n",
       "│ Wheaties                  ┆ G           │\n",
       "│ Wheaties Honey Gold       ┆ D           │\n",
       "└───────────────────────────┴─────────────┘"
      ]
     },
     "execution_count": 24,
     "metadata": {},
     "output_type": "execute_result"
    }
   ],
   "source": [
    "cereal_current = pl.DataFrame(\n",
    "    {\n",
    "        'name': cereal.select(pl.col('name')),\n",
    "        'current_mfr': [\"K\", \"D\", \"K\", \"D\", \"D\", \"G\", \"K\", \"G\", \"G\", \"K\", \n",
    "                        \"Q\", \"G\", \"G\", \"D\", \"G\", \"G\", \"K\", \"K\", \"G\", \"K\", \n",
    "                        \"B\", \"K\", \"D\", \"D\", \"K\", \"K\", \"K\", \"D\", \"P\", \"P\", \n",
    "                        \"P\", \"G\", \"P\", \"P\", \"P\", \"Q\", \"G\", \"P\", \"D\", \"D\",\n",
    "                        \"G\", \"Q\", \"G\", \"H\", \"D\", \"D\", \"K\", \"G\", \"D\", \"D\", \n",
    "                        \"D\", \"D\", \"P\", \"D\", \"Q\", \"Q\", \"Q\", \"Q\", \"K\", \"G\", \n",
    "                        \"D\", \"G\", \"K\", \"P\", \"D\", \"P\", \"K\", \"K\", \"D\", \"G\", \n",
    "                        \"G\", \"G\", \"D\", \"G\", \"G\", \"G\", \"D\"]\n",
    "    }\n",
    ")\n",
    "\n",
    "cereal_current"
   ]
  },
  {
   "cell_type": "markdown",
   "id": "101f9c69",
   "metadata": {},
   "source": [
    "To perform table joins in Polars, use the `.join()` method. \n",
    "\n",
    "This method allows for inner, full outer, left, right, and cross joins."
   ]
  },
  {
   "cell_type": "code",
   "execution_count": null,
   "id": "201aa1bb",
   "metadata": {},
   "outputs": [],
   "source": [
    "cereal_update = cereal.join(cereal_current, on='name', how='inner')\n",
    "\n",
    "cereal_update"
   ]
  },
  {
   "cell_type": "markdown",
   "id": "5601028f",
   "metadata": {},
   "source": [
    "## Data Analysis\n",
    "\n",
    "Polars operations allow for powerful analysis. Here are some simple questions and answers, and there's much more you can do as well."
   ]
  },
  {
   "cell_type": "markdown",
   "id": "cc7b577c",
   "metadata": {},
   "source": [
    "> Which cereals have now been discontinued?"
   ]
  },
  {
   "cell_type": "code",
   "execution_count": 28,
   "id": "1fc6f322",
   "metadata": {},
   "outputs": [
    {
     "data": {
      "text/html": [
       "<div><style>\n",
       ".dataframe > thead > tr,\n",
       ".dataframe > tbody > tr {\n",
       "  text-align: right;\n",
       "  white-space: pre-wrap;\n",
       "}\n",
       "</style>\n",
       "<small>shape: (21, 17)</small><table border=\"1\" class=\"dataframe\"><thead><tr><th>name</th><th>mfr</th><th>type</th><th>calories</th><th>protein</th><th>fat</th><th>sodium</th><th>fiber</th><th>carbo</th><th>sugars</th><th>potass</th><th>vitamins</th><th>shelf</th><th>weight</th><th>cups</th><th>rating</th><th>current_mfr</th></tr><tr><td>str</td><td>str</td><td>str</td><td>i64</td><td>i64</td><td>i64</td><td>i64</td><td>f64</td><td>f64</td><td>i64</td><td>i64</td><td>i64</td><td>i64</td><td>f64</td><td>f64</td><td>f64</td><td>str</td></tr></thead><tbody><tr><td>&quot;100% Natural Bran&quot;</td><td>&quot;Q&quot;</td><td>&quot;C&quot;</td><td>120</td><td>3</td><td>5</td><td>15</td><td>2.0</td><td>8.0</td><td>8</td><td>135</td><td>0</td><td>3</td><td>1.0</td><td>1.0</td><td>33.983679</td><td>&quot;D&quot;</td></tr><tr><td>&quot;All-Bran with Extra Fiber&quot;</td><td>&quot;K&quot;</td><td>&quot;C&quot;</td><td>50</td><td>4</td><td>0</td><td>140</td><td>14.0</td><td>8.0</td><td>0</td><td>330</td><td>25</td><td>3</td><td>1.0</td><td>0.5</td><td>93.704912</td><td>&quot;D&quot;</td></tr><tr><td>&quot;Almond Delight&quot;</td><td>&quot;R&quot;</td><td>&quot;C&quot;</td><td>110</td><td>2</td><td>2</td><td>200</td><td>1.0</td><td>14.0</td><td>8</td><td>null</td><td>25</td><td>3</td><td>1.0</td><td>0.75</td><td>34.384843</td><td>&quot;D&quot;</td></tr><tr><td>&quot;Clusters&quot;</td><td>&quot;G&quot;</td><td>&quot;C&quot;</td><td>110</td><td>3</td><td>2</td><td>140</td><td>2.0</td><td>13.0</td><td>7</td><td>105</td><td>25</td><td>3</td><td>1.0</td><td>0.5</td><td>40.400208</td><td>&quot;D&quot;</td></tr><tr><td>&quot;Crispy Wheat &amp; Raisins&quot;</td><td>&quot;G&quot;</td><td>&quot;C&quot;</td><td>100</td><td>2</td><td>1</td><td>140</td><td>2.0</td><td>11.0</td><td>10</td><td>120</td><td>25</td><td>3</td><td>1.0</td><td>0.75</td><td>36.176196</td><td>&quot;D&quot;</td></tr><tr><td>&hellip;</td><td>&hellip;</td><td>&hellip;</td><td>&hellip;</td><td>&hellip;</td><td>&hellip;</td><td>&hellip;</td><td>&hellip;</td><td>&hellip;</td><td>&hellip;</td><td>&hellip;</td><td>&hellip;</td><td>&hellip;</td><td>&hellip;</td><td>&hellip;</td><td>&hellip;</td><td>&hellip;</td></tr><tr><td>&quot;Raisin Squares&quot;</td><td>&quot;K&quot;</td><td>&quot;C&quot;</td><td>90</td><td>2</td><td>0</td><td>0</td><td>2.0</td><td>15.0</td><td>6</td><td>110</td><td>25</td><td>3</td><td>1.0</td><td>0.5</td><td>55.333142</td><td>&quot;D&quot;</td></tr><tr><td>&quot;Shredded Wheat &#x27;n&#x27;Bran&quot;</td><td>&quot;N&quot;</td><td>&quot;C&quot;</td><td>90</td><td>3</td><td>0</td><td>0</td><td>4.0</td><td>19.0</td><td>0</td><td>140</td><td>0</td><td>1</td><td>1.0</td><td>0.67</td><td>74.472949</td><td>&quot;D&quot;</td></tr><tr><td>&quot;Strawberry Fruit Wheats&quot;</td><td>&quot;N&quot;</td><td>&quot;C&quot;</td><td>90</td><td>2</td><td>0</td><td>15</td><td>3.0</td><td>15.0</td><td>5</td><td>90</td><td>25</td><td>2</td><td>1.0</td><td>1.0</td><td>59.363993</td><td>&quot;D&quot;</td></tr><tr><td>&quot;Triples&quot;</td><td>&quot;G&quot;</td><td>&quot;C&quot;</td><td>110</td><td>2</td><td>1</td><td>250</td><td>0.0</td><td>21.0</td><td>3</td><td>60</td><td>25</td><td>3</td><td>1.0</td><td>0.75</td><td>39.106174</td><td>&quot;D&quot;</td></tr><tr><td>&quot;Wheaties Honey Gold&quot;</td><td>&quot;G&quot;</td><td>&quot;C&quot;</td><td>110</td><td>2</td><td>1</td><td>200</td><td>1.0</td><td>16.0</td><td>8</td><td>60</td><td>25</td><td>1</td><td>1.0</td><td>0.75</td><td>36.187559</td><td>&quot;D&quot;</td></tr></tbody></table></div>"
      ],
      "text/plain": [
       "shape: (21, 17)\n",
       "┌───────────────────────────┬─────┬──────┬──────────┬───┬────────┬──────┬───────────┬─────────────┐\n",
       "│ name                      ┆ mfr ┆ type ┆ calories ┆ … ┆ weight ┆ cups ┆ rating    ┆ current_mfr │\n",
       "│ ---                       ┆ --- ┆ ---  ┆ ---      ┆   ┆ ---    ┆ ---  ┆ ---       ┆ ---         │\n",
       "│ str                       ┆ str ┆ str  ┆ i64      ┆   ┆ f64    ┆ f64  ┆ f64       ┆ str         │\n",
       "╞═══════════════════════════╪═════╪══════╪══════════╪═══╪════════╪══════╪═══════════╪═════════════╡\n",
       "│ 100% Natural Bran         ┆ Q   ┆ C    ┆ 120      ┆ … ┆ 1.0    ┆ 1.0  ┆ 33.983679 ┆ D           │\n",
       "│ All-Bran with Extra Fiber ┆ K   ┆ C    ┆ 50       ┆ … ┆ 1.0    ┆ 0.5  ┆ 93.704912 ┆ D           │\n",
       "│ Almond Delight            ┆ R   ┆ C    ┆ 110      ┆ … ┆ 1.0    ┆ 0.75 ┆ 34.384843 ┆ D           │\n",
       "│ Clusters                  ┆ G   ┆ C    ┆ 110      ┆ … ┆ 1.0    ┆ 0.5  ┆ 40.400208 ┆ D           │\n",
       "│ Crispy Wheat & Raisins    ┆ G   ┆ C    ┆ 100      ┆ … ┆ 1.0    ┆ 0.75 ┆ 36.176196 ┆ D           │\n",
       "│ …                         ┆ …   ┆ …    ┆ …        ┆ … ┆ …      ┆ …    ┆ …         ┆ …           │\n",
       "│ Raisin Squares            ┆ K   ┆ C    ┆ 90       ┆ … ┆ 1.0    ┆ 0.5  ┆ 55.333142 ┆ D           │\n",
       "│ Shredded Wheat 'n'Bran    ┆ N   ┆ C    ┆ 90       ┆ … ┆ 1.0    ┆ 0.67 ┆ 74.472949 ┆ D           │\n",
       "│ Strawberry Fruit Wheats   ┆ N   ┆ C    ┆ 90       ┆ … ┆ 1.0    ┆ 1.0  ┆ 59.363993 ┆ D           │\n",
       "│ Triples                   ┆ G   ┆ C    ┆ 110      ┆ … ┆ 1.0    ┆ 0.75 ┆ 39.106174 ┆ D           │\n",
       "│ Wheaties Honey Gold       ┆ G   ┆ C    ┆ 110      ┆ … ┆ 1.0    ┆ 0.75 ┆ 36.187559 ┆ D           │\n",
       "└───────────────────────────┴─────┴──────┴──────────┴───┴────────┴──────┴───────────┴─────────────┘"
      ]
     },
     "execution_count": 28,
     "metadata": {},
     "output_type": "execute_result"
    }
   ],
   "source": [
    "cereal_update.filter(pl.col('current_mfr') == 'D')"
   ]
  },
  {
   "cell_type": "markdown",
   "id": "a709d1ab",
   "metadata": {},
   "source": [
    "> Which current cereals have switched manufacturers?"
   ]
  },
  {
   "cell_type": "code",
   "execution_count": 30,
   "id": "e23600de",
   "metadata": {},
   "outputs": [
    {
     "data": {
      "text/html": [
       "<div><style>\n",
       ".dataframe > thead > tr,\n",
       ".dataframe > tbody > tr {\n",
       "  text-align: right;\n",
       "  white-space: pre-wrap;\n",
       "}\n",
       "</style>\n",
       "<small>shape: (11, 17)</small><table border=\"1\" class=\"dataframe\"><thead><tr><th>name</th><th>mfr</th><th>type</th><th>calories</th><th>protein</th><th>fat</th><th>sodium</th><th>fiber</th><th>carbo</th><th>sugars</th><th>potass</th><th>vitamins</th><th>shelf</th><th>weight</th><th>cups</th><th>rating</th><th>current_mfr</th></tr><tr><td>str</td><td>str</td><td>str</td><td>i64</td><td>i64</td><td>i64</td><td>i64</td><td>f64</td><td>f64</td><td>i64</td><td>i64</td><td>i64</td><td>i64</td><td>f64</td><td>f64</td><td>f64</td><td>str</td></tr></thead><tbody><tr><td>&quot;100% Bran&quot;</td><td>&quot;N&quot;</td><td>&quot;C&quot;</td><td>70</td><td>4</td><td>1</td><td>130</td><td>10.0</td><td>5.0</td><td>6</td><td>280</td><td>25</td><td>3</td><td>1.0</td><td>0.33</td><td>68.402973</td><td>&quot;K&quot;</td></tr><tr><td>&quot;Bran Chex&quot;</td><td>&quot;R&quot;</td><td>&quot;C&quot;</td><td>90</td><td>2</td><td>1</td><td>200</td><td>4.0</td><td>15.0</td><td>6</td><td>125</td><td>25</td><td>1</td><td>1.0</td><td>0.67</td><td>49.120253</td><td>&quot;G&quot;</td></tr><tr><td>&quot;Bran Flakes&quot;</td><td>&quot;P&quot;</td><td>&quot;C&quot;</td><td>90</td><td>3</td><td>0</td><td>210</td><td>5.0</td><td>13.0</td><td>5</td><td>190</td><td>25</td><td>3</td><td>1.0</td><td>0.67</td><td>53.313813</td><td>&quot;K&quot;</td></tr><tr><td>&quot;Corn Chex&quot;</td><td>&quot;R&quot;</td><td>&quot;C&quot;</td><td>110</td><td>2</td><td>0</td><td>280</td><td>0.0</td><td>22.0</td><td>3</td><td>25</td><td>25</td><td>1</td><td>1.0</td><td>1.0</td><td>41.445019</td><td>&quot;G&quot;</td></tr><tr><td>&quot;Cream of Wheat (Quick)&quot;</td><td>&quot;N&quot;</td><td>&quot;H&quot;</td><td>100</td><td>3</td><td>0</td><td>80</td><td>1.0</td><td>21.0</td><td>0</td><td>null</td><td>0</td><td>2</td><td>1.0</td><td>1.0</td><td>64.533816</td><td>&quot;B&quot;</td></tr><tr><td>&hellip;</td><td>&hellip;</td><td>&hellip;</td><td>&hellip;</td><td>&hellip;</td><td>&hellip;</td><td>&hellip;</td><td>&hellip;</td><td>&hellip;</td><td>&hellip;</td><td>&hellip;</td><td>&hellip;</td><td>&hellip;</td><td>&hellip;</td><td>&hellip;</td><td>&hellip;</td><td>&hellip;</td></tr><tr><td>&quot;Maypo&quot;</td><td>&quot;A&quot;</td><td>&quot;H&quot;</td><td>100</td><td>4</td><td>1</td><td>0</td><td>0.0</td><td>16.0</td><td>3</td><td>95</td><td>25</td><td>2</td><td>1.0</td><td>1.0</td><td>54.850917</td><td>&quot;H&quot;</td></tr><tr><td>&quot;Rice Chex&quot;</td><td>&quot;R&quot;</td><td>&quot;C&quot;</td><td>110</td><td>1</td><td>0</td><td>240</td><td>0.0</td><td>23.0</td><td>2</td><td>30</td><td>25</td><td>1</td><td>1.0</td><td>1.13</td><td>41.998933</td><td>&quot;G&quot;</td></tr><tr><td>&quot;Shredded Wheat&quot;</td><td>&quot;N&quot;</td><td>&quot;C&quot;</td><td>80</td><td>2</td><td>0</td><td>0</td><td>3.0</td><td>16.0</td><td>0</td><td>95</td><td>0</td><td>1</td><td>0.83</td><td>1.0</td><td>68.235885</td><td>&quot;P&quot;</td></tr><tr><td>&quot;Shredded Wheat spoon size&quot;</td><td>&quot;N&quot;</td><td>&quot;C&quot;</td><td>90</td><td>3</td><td>0</td><td>0</td><td>3.0</td><td>20.0</td><td>0</td><td>120</td><td>0</td><td>1</td><td>1.0</td><td>0.67</td><td>72.801787</td><td>&quot;P&quot;</td></tr><tr><td>&quot;Wheat Chex&quot;</td><td>&quot;R&quot;</td><td>&quot;C&quot;</td><td>100</td><td>3</td><td>1</td><td>230</td><td>3.0</td><td>17.0</td><td>3</td><td>115</td><td>25</td><td>1</td><td>1.0</td><td>0.67</td><td>49.787445</td><td>&quot;G&quot;</td></tr></tbody></table></div>"
      ],
      "text/plain": [
       "shape: (11, 17)\n",
       "┌───────────────────────────┬─────┬──────┬──────────┬───┬────────┬──────┬───────────┬─────────────┐\n",
       "│ name                      ┆ mfr ┆ type ┆ calories ┆ … ┆ weight ┆ cups ┆ rating    ┆ current_mfr │\n",
       "│ ---                       ┆ --- ┆ ---  ┆ ---      ┆   ┆ ---    ┆ ---  ┆ ---       ┆ ---         │\n",
       "│ str                       ┆ str ┆ str  ┆ i64      ┆   ┆ f64    ┆ f64  ┆ f64       ┆ str         │\n",
       "╞═══════════════════════════╪═════╪══════╪══════════╪═══╪════════╪══════╪═══════════╪═════════════╡\n",
       "│ 100% Bran                 ┆ N   ┆ C    ┆ 70       ┆ … ┆ 1.0    ┆ 0.33 ┆ 68.402973 ┆ K           │\n",
       "│ Bran Chex                 ┆ R   ┆ C    ┆ 90       ┆ … ┆ 1.0    ┆ 0.67 ┆ 49.120253 ┆ G           │\n",
       "│ Bran Flakes               ┆ P   ┆ C    ┆ 90       ┆ … ┆ 1.0    ┆ 0.67 ┆ 53.313813 ┆ K           │\n",
       "│ Corn Chex                 ┆ R   ┆ C    ┆ 110      ┆ … ┆ 1.0    ┆ 1.0  ┆ 41.445019 ┆ G           │\n",
       "│ Cream of Wheat (Quick)    ┆ N   ┆ H    ┆ 100      ┆ … ┆ 1.0    ┆ 1.0  ┆ 64.533816 ┆ B           │\n",
       "│ …                         ┆ …   ┆ …    ┆ …        ┆ … ┆ …      ┆ …    ┆ …         ┆ …           │\n",
       "│ Maypo                     ┆ A   ┆ H    ┆ 100      ┆ … ┆ 1.0    ┆ 1.0  ┆ 54.850917 ┆ H           │\n",
       "│ Rice Chex                 ┆ R   ┆ C    ┆ 110      ┆ … ┆ 1.0    ┆ 1.13 ┆ 41.998933 ┆ G           │\n",
       "│ Shredded Wheat            ┆ N   ┆ C    ┆ 80       ┆ … ┆ 0.83   ┆ 1.0  ┆ 68.235885 ┆ P           │\n",
       "│ Shredded Wheat spoon size ┆ N   ┆ C    ┆ 90       ┆ … ┆ 1.0    ┆ 0.67 ┆ 72.801787 ┆ P           │\n",
       "│ Wheat Chex                ┆ R   ┆ C    ┆ 100      ┆ … ┆ 1.0    ┆ 0.67 ┆ 49.787445 ┆ G           │\n",
       "└───────────────────────────┴─────┴──────┴──────────┴───┴────────┴──────┴───────────┴─────────────┘"
      ]
     },
     "execution_count": 30,
     "metadata": {},
     "output_type": "execute_result"
    }
   ],
   "source": [
    "cereal_update.filter((pl.col('mfr') != pl.col('current_mfr')) & (pl.col('current_mfr') != 'D'))"
   ]
  },
  {
   "cell_type": "markdown",
   "id": "9221e29a",
   "metadata": {},
   "source": [
    "## Writing to a CSV\n",
    "\n",
    "Once you have new data you'd like to save, Polars allows you to write it to a CSV with `.write_csv()`."
   ]
  },
  {
   "cell_type": "code",
   "execution_count": 32,
   "id": "8242ef76",
   "metadata": {},
   "outputs": [],
   "source": [
    "cereal_update.write_csv('cereal_updated.csv')"
   ]
  },
  {
   "cell_type": "code",
   "execution_count": 33,
   "id": "ae6e61c4",
   "metadata": {},
   "outputs": [
    {
     "name": "stdout",
     "output_type": "stream",
     "text": [
      "01_Getting_Started.ipynb cereal_updated.csv       \u001b[34mimages\u001b[m\u001b[m\r\n"
     ]
    }
   ],
   "source": [
    "!ls"
   ]
  },
  {
   "cell_type": "code",
   "execution_count": null,
   "id": "6d524a90",
   "metadata": {},
   "outputs": [],
   "source": []
  }
 ],
 "metadata": {
  "kernelspec": {
   "display_name": "Python 3 (ipykernel)",
   "language": "python",
   "name": "python3"
  },
  "language_info": {
   "codemirror_mode": {
    "name": "ipython",
    "version": 3
   },
   "file_extension": ".py",
   "mimetype": "text/x-python",
   "name": "python",
   "nbconvert_exporter": "python",
   "pygments_lexer": "ipython3",
   "version": "3.10.13"
  }
 },
 "nbformat": 4,
 "nbformat_minor": 5
}
