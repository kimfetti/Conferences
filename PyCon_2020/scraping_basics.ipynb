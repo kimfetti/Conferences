{
 "cells": [
  {
   "cell_type": "markdown",
   "metadata": {
    "colab_type": "text",
    "id": "kZy-RvQX6l-3"
   },
   "source": [
    "<br>\n",
    "<h1><TT>It's Officially Legal so Let's Scrape the Web</TT></h1>\n",
    "<br>\n",
    "\n",
    "Kimberly Fessel  \n",
    "- Twitter - @kimberlyfessel \n",
    "- LinkedIn - kimberlyfessel\n",
    "\n",
    "<br>\n",
    "<h2> <TT> Scraping Basics </TT> </h2>\n",
    "\n",
    "<br>\n",
    "\n",
    "---\n",
    "\n"
   ]
  },
  {
   "cell_type": "markdown",
   "metadata": {
    "colab_type": "text",
    "id": "sGhoHtzhIj5k"
   },
   "source": [
    "# Introduction to Google Colab and `BeautifulSoup`"
   ]
  },
  {
   "cell_type": "markdown",
   "metadata": {
    "colab_type": "text",
    "id": "hW6O_39pSlfP"
   },
   "source": [
    "\n",
    "### Google Colab\n",
    "\n",
    "- Executes Python code on the fly\n",
    "- Interactivity allows for instant feedback\n",
    "- Memory persists across cells\n",
    "- `shift+enter` \n",
    "- Use [markdown](https://blog.ghost.org/markdown/) (TEXT) mode for adding text like this\n",
    "\n",
    "### BeautifulSoup\n",
    "\n",
    "- open-source Python library\n",
    "- extract data from HTML files\n",
    "- understands HTML structure by working with a [parser](https://www.crummy.com/software/BeautifulSoup/bs4/doc/#installing-a-parser) (`lxml`, `html5lib`, etc.) \n",
    "- [BeautifulSoup documentation](https://www.crummy.com/software/BeautifulSoup/bs4/doc/) for reference\n",
    "<br> <br>\n",
    "\n",
    "`BeautifulSoup` does not actually gather information from the web.  We will use the `requests` library for that."
   ]
  },
  {
   "cell_type": "markdown",
   "metadata": {
    "colab_type": "text",
    "id": "RDuD_qj9IxLP"
   },
   "source": [
    "# Learn to Scrape with Simple Inline HTML\n",
    "\n",
    "Let's start with this simple HTML page given below as a string: "
   ]
  },
  {
   "cell_type": "code",
   "execution_count": null,
   "metadata": {
    "colab": {},
    "colab_type": "code",
    "id": "H00yNF3_uuKB"
   },
   "outputs": [],
   "source": [
    "simple_html = \"\"\"\n",
    "<html>\n",
    "\n",
    "<head>\n",
    "  <style>\n",
    "    li {font-size: 18px;}\n",
    "  </style>\n",
    "</head>\n",
    "\n",
    "<body>\n",
    "  <div style=\"border-style: dotted; padding: 10px\">\n",
    "    <h1>Today's Learning Objectives</h1>\n",
    "    <ul>\n",
    "      <li>Decipher basic HTML</li>\n",
    "      <li>Retrieve information from Internet</li>\n",
    "      <li>Parse web data</li>\n",
    "      <li>Gather and prepare data systematically</li>\n",
    "    </ul>\n",
    "    <br>\n",
    "  </div>\n",
    "</body>\n",
    "\n",
    "</html>\n",
    "\"\"\""
   ]
  },
  {
   "cell_type": "markdown",
   "metadata": {
    "colab_type": "text",
    "id": "UKwJwQiHjmhZ"
   },
   "source": [
    "**EXERCISE: Quick HTML Review**\n",
    "> What tags do we see on this page?  \n",
    "> What attributes?  \n",
    "> What's the inner HTML text of the header?"
   ]
  },
  {
   "cell_type": "markdown",
   "metadata": {
    "colab_type": "text",
    "id": "3AqWBqN70t-e"
   },
   "source": [
    "Now we will tell Python to render this string as HTML."
   ]
  },
  {
   "cell_type": "code",
   "execution_count": null,
   "metadata": {
    "colab": {},
    "colab_type": "code",
    "id": "WR7vpgdGvQRy"
   },
   "outputs": [],
   "source": [
    "from IPython.core.display import display, HTML\n",
    "display(HTML(simple_html)) "
   ]
  },
  {
   "cell_type": "markdown",
   "metadata": {
    "colab_type": "text",
    "id": "2JbPxSix3MP6"
   },
   "source": [
    "This simple \"page\" contains a list of learning objectives for today's workshop. Now we will see how `BeautifulSoup` can extract information from this HTML.\n",
    "\n",
    "First we need to import `BeautifulSoup` and parse the HTML string."
   ]
  },
  {
   "cell_type": "code",
   "execution_count": null,
   "metadata": {
    "colab": {},
    "colab_type": "code",
    "id": "9NTv9j2G5Omt"
   },
   "outputs": [],
   "source": [
    "from bs4 import BeautifulSoup as bs"
   ]
  },
  {
   "cell_type": "code",
   "execution_count": null,
   "metadata": {
    "colab": {},
    "colab_type": "code",
    "id": "ZxqSZc7UPxbx"
   },
   "outputs": [],
   "source": [
    "soup = bs(simple_html)"
   ]
  },
  {
   "cell_type": "code",
   "execution_count": null,
   "metadata": {
    "colab": {},
    "colab_type": "code",
    "id": "08WUfmF0QIKz"
   },
   "outputs": [],
   "source": [
    "soup"
   ]
  },
  {
   "cell_type": "markdown",
   "metadata": {
    "colab_type": "text",
    "id": "bsv1EITAQOqp"
   },
   "source": [
    "When we print out `soup`, it looks like `BeautifulSoup` hasn't done anything!  But no worries -- it has indeed parsed our code and `BeautifulSoup` now knows how to navigate through the HTML DOM."
   ]
  },
  {
   "cell_type": "code",
   "execution_count": null,
   "metadata": {
    "colab": {},
    "colab_type": "code",
    "id": "q7JIsSw3Qgjn"
   },
   "outputs": [],
   "source": [
    "type(soup)"
   ]
  },
  {
   "cell_type": "markdown",
   "metadata": {
    "colab_type": "text",
    "id": "LkjBrNoJLNVc"
   },
   "source": [
    "### Find by tag"
   ]
  },
  {
   "cell_type": "markdown",
   "metadata": {
    "colab_type": "text",
    "id": "b6Tphk26QlYp"
   },
   "source": [
    "We begin by using the `find()` method to extract the header of our HTML."
   ]
  },
  {
   "cell_type": "code",
   "execution_count": null,
   "metadata": {
    "colab": {},
    "colab_type": "code",
    "id": "y19Bk4CHLPsi"
   },
   "outputs": [],
   "source": [
    "soup.find('h1')"
   ]
  },
  {
   "cell_type": "code",
   "execution_count": null,
   "metadata": {
    "colab": {},
    "colab_type": "code",
    "id": "POZRpITeRWLN"
   },
   "outputs": [],
   "source": [
    "type(soup.find('h1'))"
   ]
  },
  {
   "cell_type": "markdown",
   "metadata": {
    "colab_type": "text",
    "id": "2IOnOX64RZTg"
   },
   "source": [
    "`find()` returns a tagged element, but we can grab just the inner HTML text instead."
   ]
  },
  {
   "cell_type": "code",
   "execution_count": null,
   "metadata": {
    "colab": {},
    "colab_type": "code",
    "id": "24AqJmFpRrNA"
   },
   "outputs": [],
   "source": [
    "soup.find('h1').text"
   ]
  },
  {
   "cell_type": "code",
   "execution_count": null,
   "metadata": {
    "colab": {},
    "colab_type": "code",
    "id": "TqkdCh4URrov"
   },
   "outputs": [],
   "source": [
    "type(soup.find('h1').text)"
   ]
  },
  {
   "cell_type": "markdown",
   "metadata": {
    "colab_type": "text",
    "id": "WliT3c4pR0mj"
   },
   "source": [
    "We now have a way to extract text from a webpage -- powerful stuff!  \n",
    "\n",
    "What do you think will be returned if we look for list tags (`li`)?"
   ]
  },
  {
   "cell_type": "code",
   "execution_count": null,
   "metadata": {
    "colab": {},
    "colab_type": "code",
    "id": "JyfRsaFnRrrg"
   },
   "outputs": [],
   "source": [
    "soup.find('li')"
   ]
  },
  {
   "cell_type": "markdown",
   "metadata": {
    "colab_type": "text",
    "id": "3yp3vUeZSEoC"
   },
   "source": [
    "**Warning**: `BeautifulSoup` returns ONLY the FIRST matching element when we use `find()`."
   ]
  },
  {
   "cell_type": "markdown",
   "metadata": {
    "colab_type": "text",
    "id": "DJ75L1fvLP6l"
   },
   "source": [
    "### Find all"
   ]
  },
  {
   "cell_type": "markdown",
   "metadata": {
    "colab_type": "text",
    "id": "tbOtBcr6Sg0E"
   },
   "source": [
    "If we would like `BeautifulSoup` to return ALL matching elements, we can use `find_all()` instead."
   ]
  },
  {
   "cell_type": "code",
   "execution_count": null,
   "metadata": {
    "colab": {},
    "colab_type": "code",
    "id": "_mGMr9VMLUX1"
   },
   "outputs": [],
   "source": [
    "soup.find_all('li')"
   ]
  },
  {
   "cell_type": "code",
   "execution_count": null,
   "metadata": {
    "colab": {},
    "colab_type": "code",
    "id": "x0k6_ZBXTkuu"
   },
   "outputs": [],
   "source": [
    "type(soup.find_all('li'))"
   ]
  },
  {
   "cell_type": "markdown",
   "metadata": {
    "colab_type": "text",
    "id": "pHno1ME9Tx-I"
   },
   "source": [
    "Using `find_all()` yields a result set containing all of list elements on the \"page.\"  You can basically think of a result set as actinly like a list. \n",
    "\n",
    "**Warning**: `BeautifulSoup` does not allow you to apply `.text` to a result set.  The following code **will fail**."
   ]
  },
  {
   "cell_type": "code",
   "execution_count": null,
   "metadata": {
    "colab": {},
    "colab_type": "code",
    "id": "WuCGOhboTkxY"
   },
   "outputs": [],
   "source": [
    "soup.find_all('li').text"
   ]
  },
  {
   "cell_type": "markdown",
   "metadata": {
    "colab_type": "text",
    "id": "Z4fu3oHxUhOP"
   },
   "source": [
    "Instead, you must apply `.text` to each item in the result set individually."
   ]
  },
  {
   "cell_type": "code",
   "execution_count": null,
   "metadata": {
    "colab": {},
    "colab_type": "code",
    "id": "hdAvyYN6UWig"
   },
   "outputs": [],
   "source": [
    "for item in soup.find_all('li'):\n",
    "  print(item.text)"
   ]
  },
  {
   "cell_type": "code",
   "execution_count": null,
   "metadata": {
    "colab": {},
    "colab_type": "code",
    "id": "QKEltegqUWlT"
   },
   "outputs": [],
   "source": [
    "learning_objectives = [item.text for item in soup.find_all('li')]\n",
    "\n",
    "learning_objectives"
   ]
  },
  {
   "cell_type": "markdown",
   "metadata": {
    "colab_type": "text",
    "id": "UJl4-qR0U_oG"
   },
   "source": [
    "**Tip**: The two **most common mistakes** I see in web scraping with `BeautifulSoup` are:\n",
    "- Using `find()` when you really want `find_all()`\n",
    "- Attempting to apply `.text` to a result set like the output of `find_all()`"
   ]
  },
  {
   "cell_type": "markdown",
   "metadata": {
    "colab_type": "text",
    "id": "FZExVtIZMOm4"
   },
   "source": [
    "### Exercises"
   ]
  },
  {
   "cell_type": "markdown",
   "metadata": {
    "colab_type": "text",
    "id": "OOYU0rktXn5c"
   },
   "source": [
    "For the exercises that follow, please use this HTML code describing today's agenda and tools:"
   ]
  },
  {
   "cell_type": "code",
   "execution_count": null,
   "metadata": {
    "colab": {},
    "colab_type": "code",
    "id": "SBcOBj8lMQV4"
   },
   "outputs": [],
   "source": [
    "workshop_html = \"\"\"\n",
    "<html>\n",
    "\n",
    "<body>\n",
    "  <h1>Today's Workshop</h1>\n",
    "  <div id='agenda' style=\"background-color: aliceblue\">\n",
    "    <h2>Agenda</h2>\n",
    "    <p>Today's workshop is comprised of three main sections:</p>\n",
    "    <ol>\n",
    "      <li>HTML Basics</li>\n",
    "      <li>Scraping Basics</li>\n",
    "      <li>Scraping Pipeline</li>\n",
    "    </ol>\n",
    "  </div>\n",
    "  \n",
    "  <div id='tools' style='background-color: honeydew'>\n",
    "    <h2>Tools</h2>\n",
    "    <p>You will be learning about two primary Python libraries:</p>  \n",
    "    <ol>\n",
    "      <li>BeautifulSoup</li>\n",
    "      <li>requests</li>\n",
    "    </ol>\n",
    "  </div>\n",
    "</body>\n",
    "\n",
    "</html>\n",
    "\"\"\""
   ]
  },
  {
   "cell_type": "code",
   "execution_count": null,
   "metadata": {
    "colab": {},
    "colab_type": "code",
    "id": "u3wwCI9NJZPz"
   },
   "outputs": [],
   "source": [
    "from IPython.core.display import display, HTML\n",
    "display(HTML(workshop_html)) "
   ]
  },
  {
   "cell_type": "markdown",
   "metadata": {
    "colab_type": "text",
    "id": "mpdrMjBgaQ3i"
   },
   "source": [
    "**Exercise 1 - Finding the header**  _(Solutions to all exercises provide at bottom of notebook.)_\n",
    "> Parse `workshop_html` with `BeautifulSoup`.  Find the main header text (`h1`) and save it in a variable.  Verify that you have the text by checking the `type` of your variable."
   ]
  },
  {
   "cell_type": "code",
   "execution_count": null,
   "metadata": {
    "colab": {},
    "colab_type": "code",
    "id": "K6adKDP0bEKR"
   },
   "outputs": [],
   "source": []
  },
  {
   "cell_type": "code",
   "execution_count": null,
   "metadata": {
    "colab": {},
    "colab_type": "code",
    "id": "SO9Nh2wUbETs"
   },
   "outputs": [],
   "source": []
  },
  {
   "cell_type": "code",
   "execution_count": null,
   "metadata": {
    "colab": {},
    "colab_type": "code",
    "id": "GYpHfOvjbEzt"
   },
   "outputs": [],
   "source": []
  },
  {
   "cell_type": "markdown",
   "metadata": {
    "colab_type": "text",
    "id": "Mhjw8y_JbNHd"
   },
   "source": [
    "**Exercise 2 - Finding the paragraphs**\n",
    "\n",
    "Now find all the paragraphs in `workshop_html` and print out the text that you find."
   ]
  },
  {
   "cell_type": "code",
   "execution_count": null,
   "metadata": {
    "colab": {},
    "colab_type": "code",
    "id": "IKUg-aurb8bM"
   },
   "outputs": [],
   "source": []
  },
  {
   "cell_type": "code",
   "execution_count": null,
   "metadata": {
    "colab": {},
    "colab_type": "code",
    "id": "o4Ec96Q_b8eg"
   },
   "outputs": [],
   "source": []
  },
  {
   "cell_type": "markdown",
   "metadata": {
    "colab_type": "text",
    "id": "qXuDZ968cTkT"
   },
   "source": [
    "**BONUS: Exercise 3 - Finding the agenda items**\n",
    "\n",
    "Create a list of all of the agenda items for today's workshop.  Be sure to store only the TEXT for the AGENDA items!"
   ]
  },
  {
   "cell_type": "code",
   "execution_count": null,
   "metadata": {
    "colab": {},
    "colab_type": "code",
    "id": "zUYIOQG0ciZP"
   },
   "outputs": [],
   "source": []
  },
  {
   "cell_type": "code",
   "execution_count": null,
   "metadata": {
    "colab": {},
    "colab_type": "code",
    "id": "yyvvjM2tcic1"
   },
   "outputs": [],
   "source": []
  },
  {
   "cell_type": "markdown",
   "metadata": {
    "colab_type": "text",
    "id": "Iqq1HAHnJZ4b"
   },
   "source": [
    "# Scrape Test Webpage"
   ]
  },
  {
   "cell_type": "markdown",
   "metadata": {
    "colab_type": "text",
    "id": "ENkQA206dhqK"
   },
   "source": [
    "In the last exercise, we found out that oftentimes using only the HTML tags alone won't be granular enough.  \n",
    "\n",
    "Let's work with a more complicated HTML file to see what other options are available.\n",
    "\n",
    "First download this file to your computer."
   ]
  },
  {
   "cell_type": "code",
   "execution_count": null,
   "metadata": {
    "colab": {},
    "colab_type": "code",
    "id": "CQabS3_6uC6z"
   },
   "outputs": [],
   "source": [
    "!wget https://raw.github.com/kimfetti/Conferences/master/PyCon_2020/pycon_info.html"
   ]
  },
  {
   "cell_type": "markdown",
   "metadata": {
    "colab_type": "text",
    "id": "xO4K3JWGuaDR"
   },
   "source": [
    "Double click on this file to view it in your browser.  Once you have gotten a feel for the structure, read the file in and save as a string. "
   ]
  },
  {
   "cell_type": "code",
   "execution_count": null,
   "metadata": {
    "colab": {},
    "colab_type": "code",
    "id": "pj5tg_MnnwB7"
   },
   "outputs": [],
   "source": [
    "pycon_html = open('pycon_info.html').read()"
   ]
  },
  {
   "cell_type": "code",
   "execution_count": null,
   "metadata": {
    "colab": {},
    "colab_type": "code",
    "id": "-q2zzBCYog7r"
   },
   "outputs": [],
   "source": [
    "print(pycon_html)"
   ]
  },
  {
   "cell_type": "markdown",
   "metadata": {
    "colab_type": "text",
    "id": "jDPP_5ygqW7P"
   },
   "source": [
    "Since our HTML is a string, we can parse it with `BeautifulSoup` and begin collecting data.  \n",
    "\n",
    "Let's say we are interested in gathering titles and links of events happening today.  Links can be found by looking for anchor, `a`, tags.  "
   ]
  },
  {
   "cell_type": "code",
   "execution_count": null,
   "metadata": {
    "colab": {},
    "colab_type": "code",
    "id": "8B5Oydm6rIDq"
   },
   "outputs": [],
   "source": [
    "soup = bs(pycon_html)"
   ]
  },
  {
   "cell_type": "code",
   "execution_count": null,
   "metadata": {
    "colab": {},
    "colab_type": "code",
    "id": "PK4gJLPwrVPM"
   },
   "outputs": [],
   "source": [
    "soup.find_all('a')"
   ]
  },
  {
   "cell_type": "markdown",
   "metadata": {
    "colab_type": "text",
    "id": "2HaEHZgVslih"
   },
   "source": [
    "Whoa -- there are a lot more links on this page other than today's events!"
   ]
  },
  {
   "cell_type": "markdown",
   "metadata": {
    "colab_type": "text",
    "id": "50z8xhqlLfTL"
   },
   "source": [
    "###Find by attribute"
   ]
  },
  {
   "cell_type": "markdown",
   "metadata": {
    "colab_type": "text",
    "id": "X8J3lOYFsvdp"
   },
   "source": [
    "In order to drill down to just the links we are interested in, notice that today's events are contained within a `div` that has `id=today`.  We can first isolate this `div` by searching for it by its `id`."
   ]
  },
  {
   "cell_type": "code",
   "execution_count": null,
   "metadata": {
    "colab": {},
    "colab_type": "code",
    "id": "0ljh-i2WLhDJ"
   },
   "outputs": [],
   "source": [
    "today_div = soup.find(id='today')\n",
    "\n",
    "today_div"
   ]
  },
  {
   "cell_type": "code",
   "execution_count": null,
   "metadata": {
    "colab": {},
    "colab_type": "code",
    "id": "zFX6VVDRtFj3"
   },
   "outputs": [],
   "source": [
    "type(today_div)"
   ]
  },
  {
   "cell_type": "markdown",
   "metadata": {
    "colab_type": "text",
    "id": "qSbVBUzltRIa"
   },
   "source": [
    "Now we will look for all of the anchor tags that are contained within this division."
   ]
  },
  {
   "cell_type": "code",
   "execution_count": null,
   "metadata": {
    "colab": {},
    "colab_type": "code",
    "id": "HJBi-y4StLqd"
   },
   "outputs": [],
   "source": [
    "today_div.find_all('a')"
   ]
  },
  {
   "cell_type": "markdown",
   "metadata": {
    "colab_type": "text",
    "id": "tmkC8X_4xnbC"
   },
   "source": [
    "**Tip**:  You can find elements by pretty much any attribute.  Let's find elements with that are members of the `events` class."
   ]
  },
  {
   "cell_type": "code",
   "execution_count": null,
   "metadata": {
    "colab": {},
    "colab_type": "code",
    "id": "t1IBgegQxLgZ"
   },
   "outputs": [],
   "source": [
    "soup.find_all(class_ = 'events')"
   ]
  },
  {
   "cell_type": "markdown",
   "metadata": {
    "colab_type": "text",
    "id": "hFKaUQeczI8S"
   },
   "source": [
    "Passing a dictionary of attributes works as well."
   ]
  },
  {
   "cell_type": "code",
   "execution_count": null,
   "metadata": {
    "colab": {},
    "colab_type": "code",
    "id": "0cPgx8kgy4lc"
   },
   "outputs": [],
   "source": [
    "soup.find_all(attrs={'class':'events', 'id': 'tomorrow'}) "
   ]
  },
  {
   "cell_type": "markdown",
   "metadata": {
    "colab_type": "text",
    "id": "Vdtgdj92Lm0S"
   },
   "source": [
    "### Retrieve attributes"
   ]
  },
  {
   "cell_type": "markdown",
   "metadata": {
    "colab_type": "text",
    "id": "3ERJqjn_tZsC"
   },
   "source": [
    "If we want to just get the names of today's events, we can simply cycle through today's links and collect the `.text`."
   ]
  },
  {
   "cell_type": "code",
   "execution_count": null,
   "metadata": {
    "colab": {},
    "colab_type": "code",
    "id": "6gjThbpwtLui"
   },
   "outputs": [],
   "source": [
    "today_text = [link.text for link in today_div.find_all('a')]\n",
    "\n",
    "today_text"
   ]
  },
  {
   "cell_type": "markdown",
   "metadata": {
    "colab_type": "text",
    "id": "vTnrWzSGxdIN"
   },
   "source": [
    "But what would we do if we wanted the **hyperlinks** to each of those events?\n",
    "\n",
    "`BeautifulSoup` allows you to retrieve element attributes.  You will reference these using the same syntax as dictionary key."
   ]
  },
  {
   "cell_type": "code",
   "execution_count": null,
   "metadata": {
    "colab": {},
    "colab_type": "code",
    "id": "_dqcWf7jLs_t"
   },
   "outputs": [],
   "source": [
    "today_div.find('a')"
   ]
  },
  {
   "cell_type": "code",
   "execution_count": null,
   "metadata": {
    "colab": {},
    "colab_type": "code",
    "id": "rgSsqg2czq9-"
   },
   "outputs": [],
   "source": [
    "today_div.find('a')['href']"
   ]
  },
  {
   "cell_type": "code",
   "execution_count": null,
   "metadata": {
    "colab": {},
    "colab_type": "code",
    "id": "RBC1yquizvMZ"
   },
   "outputs": [],
   "source": [
    "type(today_div.find('a')['href'])"
   ]
  },
  {
   "cell_type": "code",
   "execution_count": null,
   "metadata": {
    "colab": {},
    "colab_type": "code",
    "id": "ZPvUjoF9zy8l"
   },
   "outputs": [],
   "source": [
    "today_links = [link['href'] for link in today_div.find_all('a')]\n",
    "\n",
    "today_links"
   ]
  },
  {
   "cell_type": "markdown",
   "metadata": {
    "colab_type": "text",
    "id": "J181BQ3_L0bZ"
   },
   "source": [
    "### Exercises"
   ]
  },
  {
   "cell_type": "markdown",
   "metadata": {
    "colab_type": "text",
    "id": "X8rfPI2m1bmM"
   },
   "source": [
    "**Exercise 4 - Tomorrow's event tuples** \n",
    "> Create a list of tuples for each of tomorrow's events.  The first element in your tuples will be the event title and the second will be the event link."
   ]
  },
  {
   "cell_type": "code",
   "execution_count": null,
   "metadata": {
    "colab": {},
    "colab_type": "code",
    "id": "GoiUcz0aL1fJ"
   },
   "outputs": [],
   "source": []
  },
  {
   "cell_type": "code",
   "execution_count": null,
   "metadata": {
    "colab": {},
    "colab_type": "code",
    "id": "HhvssAMI1Q80"
   },
   "outputs": [],
   "source": []
  },
  {
   "cell_type": "markdown",
   "metadata": {
    "colab_type": "text",
    "id": "n5DAy_WZ08mh"
   },
   "source": [
    "**Exercise 5 - Finding the event headers** \n",
    "> Using `pycon_html` find the header text for today's and tomorrow's events by referencing the `events` class."
   ]
  },
  {
   "cell_type": "code",
   "execution_count": null,
   "metadata": {
    "colab": {},
    "colab_type": "code",
    "id": "xoJ_Rdc91uie"
   },
   "outputs": [],
   "source": []
  },
  {
   "cell_type": "code",
   "execution_count": null,
   "metadata": {
    "colab": {},
    "colab_type": "code",
    "id": "O0_lE9si1umo"
   },
   "outputs": [],
   "source": []
  },
  {
   "cell_type": "code",
   "execution_count": null,
   "metadata": {
    "colab": {},
    "colab_type": "code",
    "id": "pFqj3GO-1uwX"
   },
   "outputs": [],
   "source": []
  },
  {
   "cell_type": "markdown",
   "metadata": {
    "colab_type": "text",
    "id": "AwJEaE82L4tj"
   },
   "source": [
    "---\n",
    "\n",
    "# Solutions"
   ]
  },
  {
   "cell_type": "markdown",
   "metadata": {
    "colab_type": "text",
    "id": "jcxKoYVhkMdm"
   },
   "source": [
    "  **Exercise 0: Quick HTML Review**\n",
    "> What tags do we see on this page? <br>\n",
    "`div`, `h1`, `ul` (unordered list), `li` (list item)\n",
    "\n",
    "> What attributes? <br>\n",
    "`style` for the `div` container\n",
    "\n",
    "> What's the inner HTML text of the header? <br>\n",
    "\"Today's Learning Objectives\""
   ]
  },
  {
   "cell_type": "markdown",
   "metadata": {
    "colab_type": "text",
    "id": "uhDzJPNQbRDt"
   },
   "source": [
    " **Exercise 1 - Finding the header**\n",
    "\n",
    "> Parse `workshop_html` with `BeautifulSoup`.  Find the main header text (`h1`) and save it in a variable.  Verify that you have the text by checking the `type` of your variable."
   ]
  },
  {
   "cell_type": "code",
   "execution_count": null,
   "metadata": {
    "colab": {},
    "colab_type": "code",
    "id": "smuIFTdOL6Kv"
   },
   "outputs": [],
   "source": [
    "soup = bs(workshop_html)"
   ]
  },
  {
   "cell_type": "code",
   "execution_count": null,
   "metadata": {
    "colab": {},
    "colab_type": "code",
    "id": "4Tyg2g3WbUn8"
   },
   "outputs": [],
   "source": [
    "header = soup.find('h1').text\n",
    "\n",
    "print(header)"
   ]
  },
  {
   "cell_type": "code",
   "execution_count": null,
   "metadata": {
    "colab": {},
    "colab_type": "code",
    "id": "gtB84wARbXZ8"
   },
   "outputs": [],
   "source": [
    "type(header)"
   ]
  },
  {
   "cell_type": "markdown",
   "metadata": {
    "colab_type": "text",
    "id": "ni-mQghTcBV9"
   },
   "source": [
    " **Exercise 2 - Finding the paragraphs**\n",
    "\n",
    "Now find all the paragraphs in `workshop_html` and print out the text that you find."
   ]
  },
  {
   "cell_type": "code",
   "execution_count": null,
   "metadata": {
    "colab": {},
    "colab_type": "code",
    "id": "v-9PYDY5bYbs"
   },
   "outputs": [],
   "source": [
    "soup.find_all('p')"
   ]
  },
  {
   "cell_type": "code",
   "execution_count": null,
   "metadata": {
    "colab": {},
    "colab_type": "code",
    "id": "By_rc__LcDv7"
   },
   "outputs": [],
   "source": [
    "for paragraph in soup.find_all('p'):\n",
    "  print(paragraph.text)"
   ]
  },
  {
   "cell_type": "markdown",
   "metadata": {
    "colab_type": "text",
    "id": "CwdPE0UackhC"
   },
   "source": [
    " **BONUS: Exercise 3 - Finding the agenda items**\n",
    "\n",
    "Create a list of all of the agenda items for today's workshop.  Be sure to store only the TEXT for the AGENDA items!"
   ]
  },
  {
   "cell_type": "code",
   "execution_count": null,
   "metadata": {
    "colab": {},
    "colab_type": "code",
    "id": "vmfciqaKcIig"
   },
   "outputs": [],
   "source": [
    "agenda_items = [li.text for li in soup.find_all('li')[:3]]\n",
    "\n",
    "print(agenda_items)"
   ]
  },
  {
   "cell_type": "code",
   "execution_count": null,
   "metadata": {
    "colab": {},
    "colab_type": "code",
    "id": "m0mIv8rqcsvA"
   },
   "outputs": [],
   "source": [
    "#Later we will learn a better way: \n",
    "#  First look for the div that contains the agenda items\n",
    "\n",
    "agenda_div = soup.find('div', id='agenda')\n",
    "\n",
    "agenda_items = [li.text for li in agenda_div.find_all('li')]\n",
    "\n",
    "print(agenda_items)"
   ]
  },
  {
   "cell_type": "markdown",
   "metadata": {
    "colab_type": "text",
    "id": "lbjUrQeC2W1-"
   },
   "source": [
    " **Exercise 4 - Tomorrow's event tuples** \n",
    "> Create a list of tuples for each of tomorrow's events.  The first element in your tuples will be the event title and the second will be the event link."
   ]
  },
  {
   "cell_type": "code",
   "execution_count": null,
   "metadata": {
    "colab": {},
    "colab_type": "code",
    "id": "gjbPnuEg2SHZ"
   },
   "outputs": [],
   "source": [
    "tomorrow_tuples = [(a.text, a['href']) for a in soup.find(id='tomorrow').find_all('a')]\n",
    "\n",
    "tomorrow_tuples"
   ]
  },
  {
   "cell_type": "markdown",
   "metadata": {
    "colab_type": "text",
    "id": "HLjUUS601zeY"
   },
   "source": [
    " **Exercise 5 - Finding the event headers** \n",
    "> Using `pycon_html` find the header text for today's and tomorrow's events by referencing the `events` class."
   ]
  },
  {
   "cell_type": "code",
   "execution_count": null,
   "metadata": {
    "colab": {},
    "colab_type": "code",
    "id": "ZTYJ7raoc9bG"
   },
   "outputs": [],
   "source": [
    "event_headers = [div.find('h2') for div in soup.find_all(class_='events')]"
   ]
  },
  {
   "cell_type": "code",
   "execution_count": null,
   "metadata": {
    "colab": {},
    "colab_type": "code",
    "id": "NHNsdYdU2C3r"
   },
   "outputs": [],
   "source": [
    "event_header_text = [header.text for header in event_headers]\n",
    "\n",
    "event_header_text"
   ]
  }
 ],
 "metadata": {
  "colab": {
   "collapsed_sections": [],
   "name": "PyCon2020_Scraping_Basics.ipynb",
   "provenance": []
  },
  "kernelspec": {
   "display_name": "Python 3",
   "language": "python",
   "name": "python3"
  },
  "language_info": {
   "codemirror_mode": {
    "name": "ipython",
    "version": 3
   },
   "file_extension": ".py",
   "mimetype": "text/x-python",
   "name": "python",
   "nbconvert_exporter": "python",
   "pygments_lexer": "ipython3",
   "version": "3.7.2"
  }
 },
 "nbformat": 4,
 "nbformat_minor": 1
}
